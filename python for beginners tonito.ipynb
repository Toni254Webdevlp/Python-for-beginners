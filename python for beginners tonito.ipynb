{
 "cells": [
  {
   "cell_type": "code",
   "execution_count": 1,
   "id": "0f53ad38",
   "metadata": {
    "scrolled": true
   },
   "outputs": [
    {
     "name": "stdout",
     "output_type": "stream",
     "text": [
      "      /|\n",
      "     / |\n",
      "    /  |\n",
      "   /   |\n",
      "  /    |\n",
      " /     |\n",
      "/______|\n"
     ]
    }
   ],
   "source": [
    "#Drawing a triangle\n",
    "print(\"      /|\")\n",
    "print(\"     / |\")\n",
    "print(\"    /  |\")\n",
    "print(\"   /   |\")\n",
    "print(\"  /    |\")\n",
    "print(\" /     |\")\n",
    "print(\"/______|\")\n",
    "\n"
   ]
  },
  {
   "cell_type": "code",
   "execution_count": null,
   "id": "0592aaff",
   "metadata": {},
   "outputs": [],
   "source": [
    "#Variables and Data Type\n",
    "character_name1 = \"John\"\n",
    "character_height = \"5.6'\"\n",
    "character_name2 = \"Marry\"\n",
    "print(\"There is a man named \" + character_name1 + \",\")\n",
    "print(\"He is \" + character_height + \" tall.\")\n",
    "print(\"He really likes the name \" + character_name1 + \",\")\n",
    "print(\"But don't like being \" + character_height + \".\")\n",
    "print(\"He's dating a beautiful girl called \" + character_name2 + \" and he can't wait to marry her!\")\n"
   ]
  },
  {
   "cell_type": "code",
   "execution_count": 3,
   "id": "cb692873",
   "metadata": {},
   "outputs": [
    {
     "name": "stdout",
     "output_type": "stream",
     "text": [
      "Antony\n",
      "Wachira\n",
      "Muriithi\n",
      "I LOVE FOOTBALL\n",
      "False\n",
      "i love football\n",
      "True\n",
      "15\n",
      "f\n",
      "v\n",
      "12\n",
      "I love Hockey\n"
     ]
    },
    {
     "data": {
      "text/plain": [
       "True"
      ]
     },
     "execution_count": 3,
     "metadata": {},
     "output_type": "execute_result"
    }
   ],
   "source": [
    "#Working With Strings\n",
    "#insert a new line\n",
    "print(\"Antony\\nWachira\\nMuriithi\")\n",
    "phrase = \"I love football\"\n",
    "#coverting a string into lower or upper case\n",
    "print(phrase.upper())\n",
    "print(phrase.islower())\n",
    "print(phrase.lower())\n",
    "#converting a string into lower and checking if it's lower\n",
    "print(phrase.lower().islower())\n",
    "#length of a phrase\n",
    "print(len(phrase))\n",
    "print(phrase[7])\n",
    "print(phrase[4])\n",
    "#position of a character\n",
    "print(phrase.index(\"a\"))\n",
    "#replace\n",
    "print(phrase.replace(\"football\",\"Hockey\"))\n",
    "#check if a string or a character is in the the string\n",
    "'love' in phrase"
   ]
  },
  {
   "cell_type": "code",
   "execution_count": 4,
   "id": "76cdb64b",
   "metadata": {},
   "outputs": [
    {
     "name": "stdout",
     "output_type": "stream",
     "text": [
      "Antony [Wachira] is learnig how to code.\n",
      "90\n",
      "140\n",
      "90\n",
      "180\n",
      "90.0\n",
      "2.0\n",
      "4\n",
      "22\n",
      "20.0\n",
      "3.0\n"
     ]
    }
   ],
   "source": [
    "#Formated Strings\n",
    "#To define formated strings, use prefix \"f\" and and curly brackets(dynamicaly fix values into the strings)\n",
    "first='Antony'\n",
    "last = 'Wachira'\n",
    "message = f'{first} [{last}] is learnig how to code.'\n",
    "print(message)\n",
    "\n",
    "#Augmented sign operator\n",
    "x=40\n",
    "x=x+50\n",
    "print(x)\n",
    "x+=50\n",
    "print(x)\n",
    "x-=50\n",
    "print(x)\n",
    "x*=2\n",
    "print(x)\n",
    "x/=2\n",
    "print(x)\n",
    "#x%=4\n",
    "x%=4\n",
    "print(x)\n",
    "#Operator precidece. The order of the precedence are Exponetiation then multiplication or division then addition or subrctn\n",
    "c=3+2-1\n",
    "print(c)\n",
    "#parenthesi always takes the priority the order of precedence\n",
    "m = (4+4-2)+4**2\n",
    "print(m)\n",
    "y = 4+8*4/2\n",
    "print(y)\n",
    "z = 2**2/2+1\n",
    "print(z)\n"
   ]
  },
  {
   "cell_type": "code",
   "execution_count": 1,
   "id": "0de43f71",
   "metadata": {},
   "outputs": [
    {
     "name": "stdout",
     "output_type": "stream",
     "text": [
      "-5\n",
      "4.543\n"
     ]
    }
   ],
   "source": [
    "#Mathematical funtions\n",
    "x = -4.543\n",
    "print(round(x))\n",
    "print(abs(x))"
   ]
  },
  {
   "cell_type": "code",
   "execution_count": 9,
   "id": "f3a24198",
   "metadata": {},
   "outputs": [
    {
     "name": "stdout",
     "output_type": "stream",
     "text": [
      "4\n",
      "3\n",
      "1.5707963267948966\n"
     ]
    }
   ],
   "source": [
    "#Importing mathematical fuctions for performing complex mathematical equations\n",
    "import math\n",
    "print(math.ceil(3.4))\n",
    "print(math.floor(3.54))\n",
    "print(math.acos(0))"
   ]
  },
  {
   "cell_type": "code",
   "execution_count": 14,
   "id": "7136d923",
   "metadata": {},
   "outputs": [
    {
     "name": "stdout",
     "output_type": "stream",
     "text": [
      "it's a hot day\n",
      "Drink plent of water\n",
      "Enjoy you day\n"
     ]
    }
   ],
   "source": [
    "#If Statements\n",
    "is_hot= True\n",
    "is_cold= False\n",
    "if is_hot:\n",
    "    print(\"it's a hot day\")\n",
    "    print(\"Drink plent of water\")\n",
    "elif is_cold:\n",
    "    print(\"It's a cold day\")\n",
    "    print(\"wear warm clothes\")\n",
    "else:\n",
    "    print(\"It's a lovely day\")\n",
    "print(\"Enjoy you day\")"
   ]
  },
  {
   "cell_type": "code",
   "execution_count": 8,
   "id": "0f53d376",
   "metadata": {},
   "outputs": [
    {
     "name": "stdout",
     "output_type": "stream",
     "text": [
      "down_payment: $100000.0\n"
     ]
    }
   ],
   "source": [
    "House_price = 1000000\n",
    "has_good_credit = True\n",
    "if has_good_credit:\n",
    "    down_payment = 0.1*House_price\n",
    "else:\n",
    "    down_payment = 0.2*House_price\n",
    "print(f\"down_payment: ${down_payment}\")\n",
    "    "
   ]
  },
  {
   "cell_type": "code",
   "execution_count": 16,
   "id": "3414661b",
   "metadata": {},
   "outputs": [
    {
     "name": "stdout",
     "output_type": "stream",
     "text": [
      "Eligible for a soft loan\n",
      "\n",
      "Eligible for a soft loan\n",
      "\n",
      "Eligible for a soft loan\n"
     ]
    }
   ],
   "source": [
    "#Logical Operators.\n",
    "#AND\n",
    "has_high_income = True\n",
    "has_good_credit = True\n",
    "if has_high_income and has_good_credit:\n",
    "    print(\"Eligible for a soft loan\\n\")\n",
    "#OR\n",
    "has_high_income = True\n",
    "has_good_credit = False\n",
    "if has_high_income or has_good_credit:\n",
    "    print(\"Eligible for a soft loan\\n\")\n",
    "#AND NOT    \n",
    "has_good_credit = True\n",
    "has_criminal_record = False\n",
    "if has_high_income and not has_criminal_record:\n",
    "    print(\"Eligible for a soft loan\")"
   ]
  },
  {
   "cell_type": "code",
   "execution_count": 10,
   "id": "1a7fd767",
   "metadata": {},
   "outputs": [
    {
     "name": "stdout",
     "output_type": "stream",
     "text": [
      "It's not a normal day.\n",
      "name looks good!\n"
     ]
    }
   ],
   "source": [
    "#Comparison Operators\n",
    "temperatures = 15\n",
    "if temperatures >30:\n",
    "    print(\"It's a hot day, \\n Drink plenty of water.\")\n",
    "elif temperatures < 15:\n",
    "    print(\"It's a cold day, \\n Wear warm cloths\\n\")\n",
    "elif temperatures == 27:\n",
    "    print(\"It's a normal day, \\n Enjoy your day.\")\n",
    "else:\n",
    "    print(\"It's not a normal day.\")\n",
    "    \n",
    "name = \"tonito\"\n",
    "if len(name) < 3:\n",
    "    print(\"name must be at least three characters!\")\n",
    "elif len(name) > 50:\n",
    "    print(\"name can be a maximum of 50 characters!\")\n",
    "else:\n",
    "    print(\"name looks good!\")"
   ]
  },
  {
   "cell_type": "code",
   "execution_count": 1,
   "id": "5493d84a",
   "metadata": {},
   "outputs": [
    {
     "name": "stdout",
     "output_type": "stream",
     "text": [
      "Weight: 69\n",
      "L(bs) or (K)kg: k\n",
      "You are 153.33333333333334 pounds\n"
     ]
    }
   ],
   "source": [
    "weight = int(input('Weight: '))\n",
    "unit = input('L(bs) or (K)kg: ')\n",
    "if unit.upper() == \"L\":\n",
    "    converted = weight*0.45\n",
    "    print(f\"you are {converted} kilos\")\n",
    "else:\n",
    "    converted = weight / 0.45\n",
    "    print(f\"You are {converted} pounds\")\n",
    "    "
   ]
  },
  {
   "cell_type": "code",
   "execution_count": 1,
   "id": "b937dbc7",
   "metadata": {},
   "outputs": [
    {
     "name": "stdout",
     "output_type": "stream",
     "text": [
      "*\n",
      "**\n",
      "***\n",
      "****\n",
      "*****\n",
      "******\n",
      "*******\n",
      "********\n",
      "*********\n",
      "**********\n",
      "Done\n"
     ]
    }
   ],
   "source": [
    "#While Loop\n",
    "i = 1\n",
    "while i <= 10:\n",
    "    print(i*\"*\")\n",
    "    i = i+1\n",
    "print(\"Done\")\n",
    "    \n",
    "    "
   ]
  },
  {
   "cell_type": "code",
   "execution_count": 1,
   "id": "e08e9cd5",
   "metadata": {
    "collapsed": true
   },
   "outputs": [
    {
     "name": "stdout",
     "output_type": "stream",
     "text": [
      "Guess: 8\n",
      "You won!\n"
     ]
    }
   ],
   "source": [
    "#Using a while loop to build a guessing game\n",
    "secret_number = 8\n",
    "guess_count = 0\n",
    "guess_limit = 4\n",
    "while guess_count < guess_limit:\n",
    "    guess = int(input('Guess: '))\n",
    "    guess_count +=1\n",
    "    if guess == secret_number:\n",
    "        print('You won!')\n",
    "        break\n",
    "else:\n",
    "    print(\"Sorry you failed\")"
   ]
  },
  {
   "cell_type": "code",
   "execution_count": null,
   "id": "5499336d",
   "metadata": {},
   "outputs": [],
   "source": [
    "#Simulation for car game\n",
    "command = \"\"\n",
    "while True:\n",
    "    command = input(\"> \").lower\n",
    "    if command == \"start\":\n",
    "        print(\"Car started...\")\n",
    "    elif command == \"stop\":\n",
    "        print(\"Car stopped.\")\n",
    "    elif command == \"help\":\n",
    "        print(\"\"\"\n",
    "        Start - to start the car\n",
    "        Stop - to stop the car\n",
    "        quit - to quit\n",
    "        \"\"\")\n",
    "        break\n",
    "    else:\n",
    "        print(\"Sorry, i don't understand that!\")"
   ]
  },
  {
   "cell_type": "code",
   "execution_count": 6,
   "id": "d03b1331",
   "metadata": {},
   "outputs": [
    {
     "name": "stdout",
     "output_type": "stream",
     "text": [
      "p\n",
      "y\n",
      "t\n",
      "h\n",
      "o\n",
      "n\n",
      "Antony\n",
      "Wachira\n",
      "muriithi\n",
      "0\n",
      "1\n",
      "2\n",
      "3\n",
      "4\n"
     ]
    }
   ],
   "source": [
    "#For loops\n",
    "for item in \"python\":\n",
    "    print(item)\n",
    "    \n",
    "for item in ['Antony', 'Wachira', 'muriithi']:\n",
    "    print(item)\n",
    "    \n",
    "for item in range(5):\n",
    "    print(item)\n",
    "    \n",
    "\n",
    "    "
   ]
  },
  {
   "cell_type": "code",
   "execution_count": 5,
   "id": "b79b02b8",
   "metadata": {},
   "outputs": [
    {
     "name": "stdout",
     "output_type": "stream",
     "text": [
      "total: 80\n",
      "total: 120\n",
      "total: 143\n",
      "total: 186\n"
     ]
    }
   ],
   "source": [
    "prices = [10, 40, 23, 43]\n",
    "total = 70\n",
    "for price in prices:\n",
    "    total += price\n",
    "    print(f\"total: {total}\")"
   ]
  },
  {
   "cell_type": "code",
   "execution_count": 24,
   "id": "8629786c",
   "metadata": {},
   "outputs": [
    {
     "name": "stdout",
     "output_type": "stream",
     "text": [
      "0\n",
      "1\n",
      "2\n",
      "3\n",
      "4\n"
     ]
    }
   ],
   "source": [
    "for item in range(5):\n",
    "    print(item)"
   ]
  },
  {
   "cell_type": "code",
   "execution_count": 27,
   "id": "23191ce6",
   "metadata": {},
   "outputs": [
    {
     "name": "stdout",
     "output_type": "stream",
     "text": [
      "Total: 47\n",
      "Total: 114\n"
     ]
    }
   ],
   "source": [
    "prices = [47,67]\n",
    "total = 0\n",
    "for price in prices:\n",
    "    total += price\n",
    "    print(f\"Total: {total}\")"
   ]
  },
  {
   "cell_type": "code",
   "execution_count": 40,
   "id": "c76b2a8b",
   "metadata": {},
   "outputs": [
    {
     "name": "stdout",
     "output_type": "stream",
     "text": [
      "0 ,0, 0\n",
      "0 ,0, 1\n",
      "0 ,0, 2\n",
      "0 ,1, 0\n",
      "0 ,1, 1\n",
      "0 ,1, 2\n",
      "0 ,2, 0\n",
      "0 ,2, 1\n",
      "0 ,2, 2\n",
      "1 ,0, 0\n",
      "1 ,0, 1\n",
      "1 ,0, 2\n",
      "1 ,1, 0\n",
      "1 ,1, 1\n",
      "1 ,1, 2\n",
      "1 ,2, 0\n",
      "1 ,2, 1\n",
      "1 ,2, 2\n",
      "2 ,0, 0\n",
      "2 ,0, 1\n",
      "2 ,0, 2\n",
      "2 ,1, 0\n",
      "2 ,1, 1\n",
      "2 ,1, 2\n",
      "2 ,2, 0\n",
      "2 ,2, 1\n",
      "2 ,2, 2\n"
     ]
    }
   ],
   "source": [
    "#Nested loops\n",
    "for x in range(3):\n",
    "    for y in range(3):\n",
    "        for z in range(3):\n",
    "            print(f\"{x} ,{y}, {z}\")"
   ]
  },
  {
   "cell_type": "code",
   "execution_count": 4,
   "id": "787abc20",
   "metadata": {},
   "outputs": [
    {
     "name": "stdout",
     "output_type": "stream",
     "text": [
      "xxxxx\n",
      "xx\n",
      "xxxxx\n",
      "xx\n",
      "xxxxx\n"
     ]
    }
   ],
   "source": [
    "number = [5, 2, 5, 2, 5]\n",
    "for x_count in number:\n",
    "    output = ''\n",
    "    for count in range(x_count):\n",
    "        output += 'x'\n",
    "    print(output)\n",
    "\n",
    "\n",
    "\n",
    "\n"
   ]
  },
  {
   "cell_type": "code",
   "execution_count": 9,
   "id": "da1bdd1f",
   "metadata": {},
   "outputs": [
    {
     "name": "stdout",
     "output_type": "stream",
     "text": [
      "['toni', 'marry', 'muche', 'denno', 'martin']\n",
      "muche\n",
      "martin\n",
      "['muche', 'denno', 'martin']\n",
      "['muche']\n",
      "['toni', 'marry', 'muche', 'denno', 'martin']\n",
      "['tonito', 'marry', 'muche', 'denno', 'martin']\n",
      "6544\n",
      "1\n"
     ]
    }
   ],
   "source": [
    "#List\n",
    "names = [\"toni\", \"marry\", \"muche\", \"denno\", \"martin\"]\n",
    "print(names)\n",
    "print(names[2])\n",
    "print(names[-1])\n",
    "print(names[2:])\n",
    "print(names[2:3])\n",
    "print(names[:])\n",
    "names[0] = 'tonito'\n",
    "print(names)\n",
    "\n",
    "#to find the largest number in a list\n",
    "numbers = [1,5,6,7,4,6,7,8,45,36,75,345,6544,6,4,54,33,23,54]\n",
    "max = numbers[0]\n",
    "for number in numbers:\n",
    "    if number > max:\n",
    "        max = number\n",
    "print(max)\n",
    "#to find the smallest number in the list\n",
    "numbers = [1,5,6,7,4,6,7,8,45,36,75,345,6544,6,4,54,33,23,54]\n",
    "minimum = numbers[0]\n",
    "for number in numbers:\n",
    "    if number < minimum:\n",
    "        minimum = number\n",
    "print(minimum)"
   ]
  },
  {
   "cell_type": "code",
   "execution_count": 16,
   "id": "5d675ddc",
   "metadata": {},
   "outputs": [
    {
     "name": "stdout",
     "output_type": "stream",
     "text": [
      "[[2, 3, 4], [4, 3, 2], [5, 6, 7]]\n",
      "3\n",
      "[[2, 3, 4], [4, 9, 2], [5, 6, 7]]\n",
      "[2, 3, 4]\n",
      "[4, 9, 2]\n",
      "[5, 6, 7]\n",
      "2\n",
      "3\n",
      "4\n",
      "4\n",
      "9\n",
      "2\n",
      "5\n",
      "6\n",
      "7\n"
     ]
    }
   ],
   "source": [
    "# 2D Lists. (2dimensional list)\n",
    "matrix = [\n",
    "[2,3,4],\n",
    "[4,3,2],\n",
    "[5,6,7]\n",
    "]\n",
    "print(matrix)\n",
    "print(matrix[1][1])\n",
    "matrix[1][1] = 9\n",
    "print(matrix)\n",
    "#Using nested loop to iterate all the items in a 2D list\n",
    "for row in matrix:\n",
    "    print(row)\n",
    "    \n",
    "for row in matrix:\n",
    "    for item in row:\n",
    "        print(item)\n",
    "\n"
   ]
  },
  {
   "cell_type": "code",
   "execution_count": 18,
   "id": "357f618c",
   "metadata": {},
   "outputs": [
    {
     "name": "stdout",
     "output_type": "stream",
     "text": [
      "[34, 5, 4, 3, 5, 6, 6, 4, 4, 8, 20]\n",
      "[34, 34, 5, 4, 3, 5, 6, 6, 4, 4, 8, 20]\n",
      "[34, 34, 5, 4, 3, 5, 6, 6, 4, 4, 20]\n",
      "[34, 34, 5, 4, 3, 5, 6, 6, 4, 4]\n",
      "2\n",
      "True\n",
      "2\n",
      "[3, 4, 4, 4, 5, 5, 6, 6, 34, 34]\n",
      "[34, 34, 6, 6, 5, 5, 4, 4, 4, 3]\n",
      "[34, 34, 6, 6, 5, 5, 4, 4, 4, 3, 50]\n",
      "[34, 34, 6, 6, 5, 5, 4, 4, 4, 3]\n",
      "[]\n"
     ]
    }
   ],
   "source": [
    "# LIST METHODS.\n",
    "numbers = [34,5,4,3,5,6,6,4,4,8]\n",
    "#add an item on a list\n",
    "numbers.append(20)\n",
    "print(numbers)\n",
    "#insert an item on a list\n",
    "numbers.insert(0,34)\n",
    "print(numbers)\n",
    "#remove an item on the list\n",
    "numbers.remove(8)\n",
    "print(numbers)\n",
    "#removes the last item on a list\n",
    "numbers.pop()\n",
    "print(numbers)\n",
    "# index of an item(returns the index of the first occurence of this item.)\n",
    "print(numbers.index(5))\n",
    "#check the existenc of an item in a list\n",
    "print(6 in numbers)\n",
    "#counting the occurence of numbers\n",
    "print( numbers.count(6))\n",
    "#sort your list\n",
    "numbers.sort()\n",
    "print(numbers)\n",
    "#reverse your list\n",
    "numbers.reverse()\n",
    "print(numbers)\n",
    "#Copy function.\n",
    "numbers2 = numbers.copy()\n",
    "numbers.append(50)\n",
    "print(numbers)\n",
    "print(numbers2)\n",
    "#clear all the items on a list\n",
    "numbers.clear()\n",
    "print(numbers)"
   ]
  },
  {
   "cell_type": "code",
   "execution_count": 3,
   "id": "b35a7f78",
   "metadata": {},
   "outputs": [
    {
     "name": "stdout",
     "output_type": "stream",
     "text": [
      "(4, 6, 4, 4, 7, 8, 4, 3, 3, 9, 7, 6, 5)\n",
      "4\n"
     ]
    },
    {
     "data": {
      "text/plain": [
       "4"
      ]
     },
     "execution_count": 3,
     "metadata": {},
     "output_type": "execute_result"
    }
   ],
   "source": [
    "#Tuple(tuples are similar to list but they cannot be changed)\n",
    "integers = (4,6,4,4,7,8,4,3,3,9,7,6,5)\n",
    "print(integers) \n",
    "print(integers[2])\n",
    "integers.count(4)\n"
   ]
  },
  {
   "cell_type": "code",
   "execution_count": 9,
   "id": "7c472379",
   "metadata": {},
   "outputs": [
    {
     "name": "stdout",
     "output_type": "stream",
     "text": [
      "1\n"
     ]
    },
    {
     "data": {
      "text/plain": [
       "6"
      ]
     },
     "execution_count": 9,
     "metadata": {},
     "output_type": "execute_result"
    }
   ],
   "source": [
    "#Unparking \n",
    "coordinates = (1,2,3)\n",
    "x,y,z = coordinates\n",
    "print(x)\n",
    "x*y*z"
   ]
  },
  {
   "cell_type": "code",
   "execution_count": 29,
   "id": "8fa43655",
   "metadata": {},
   "outputs": [
    {
     "name": "stdout",
     "output_type": "stream",
     "text": [
      "Wachira\n",
      "jan 1 1996\n",
      "27\n",
      "jan 1 1996\n"
     ]
    }
   ],
   "source": [
    "#Dictionary in Python\n",
    "customer = {\n",
    "    \"name\": \"Tonito\",\n",
    "    \"Age\": 27,\n",
    "    \"is_verified\": True,\n",
    "    \"Email\": \"tonitomuriithi56@gmail.com\"\n",
    "            }\n",
    "customer[\"name\"] = \"Wachira\"\n",
    "print(customer[\"name\"])\n",
    "print(customer.get(\"birthdate\", \"jan 1 1996\"))\n",
    "print(customer.get(\"Age\"))\n",
    "customer[\"birthdate\"] = \"jan 1 1996\"\n",
    "print(customer.get(\"birthdate\"))\n",
    "\n"
   ]
  },
  {
   "cell_type": "code",
   "execution_count": 12,
   "id": "29338961",
   "metadata": {},
   "outputs": [
    {
     "name": "stdout",
     "output_type": "stream",
     "text": [
      "Nairobi\n",
      "Accra\n",
      "dict_keys(['Kenya', 'Uganda', 'Tanzania', 'South Sudan', 'Ghana', 'Germany'])\n",
      "dict_items([('Kenya', 'Nairobi'), ('Uganda', 'Kampala'), ('Tanzania', 'Dodoma'), ('South Sudan', 'Juba'), ('Ghana', 'Accra'), ('Germany', 'Berlin')])\n",
      "dict_values(['Nairobi', 'Kampala', 'Dodoma', 'Juba', 'Accra', 'Berlin'])\n",
      "dict_values(['Nairobi', 'Kampala', 'Dodoma', 'Khartum', 'Accra', 'Berlin'])\n",
      "Khartum\n",
      "dict_items([('Uganda', 'Kampala'), ('Tanzania', 'Dodoma'), ('South Sudan', 'Khartum'), ('Ghana', 'Accra'), ('Germany', 'Berlin')])\n",
      "None\n",
      "dict_items([])\n"
     ]
    }
   ],
   "source": [
    "#Capital dictonary\n",
    "capitals = {\n",
    "    \"Kenya\" : \"Nairobi\",\n",
    "    \"Uganda\" : \"Kampala\",\n",
    "    \"Tanzania\" : \"Dodoma\",\n",
    "    \"South Sudan\" : \"Juba\",\n",
    "    \"Ghana\" : \"Accra\"\n",
    "}\n",
    "print(capitals.get(\"Kenya\"))\n",
    "print(capitals.get(\"Ghana\"))\n",
    "capitals.update({\"Germany\" : \"Berlin\"})\n",
    "print(capitals.keys())\n",
    "print(capitals.items())\n",
    "print(capitals.values())\n",
    "capitals.update({\"South Sudan\":\"Khartum\"})\n",
    "print(capitals.values())\n",
    "print(capitals.get(\"South Sudan\"))\n",
    "capitals.pop(\"Kenya\")\n",
    "print(capitals.items())\n",
    "print(capitals.clear())\n",
    "print(capitals.items())\n",
    "\n"
   ]
  },
  {
   "cell_type": "code",
   "execution_count": 5,
   "id": "00afb008",
   "metadata": {},
   "outputs": [
    {
     "name": "stdout",
     "output_type": "stream",
     "text": [
      "Phone: 0791423390\n",
      "zero \n",
      "zero seven \n",
      "zero seven nine \n",
      "zero seven nine one \n",
      "zero seven nine one four \n",
      "zero seven nine one four two \n",
      "zero seven nine one four two three \n",
      "zero seven nine one four two three three \n",
      "zero seven nine one four two three three nine \n",
      "zero seven nine one four two three three nine zero \n",
      "🙂\n"
     ]
    }
   ],
   "source": [
    "phone_no = input(\"Phone: \")\n",
    "digit_mapping = {\n",
    "    \"1\":\"one\",\n",
    "    \"2\":\"two\",\n",
    "    \"3\":\"three\",\n",
    "    \"4\":\"four\",\n",
    "    \"0\":\"zero\",\n",
    "    \"9\":\"nine\",\n",
    "    \"7\":\"seven\",\n",
    "    \"5\":\"\\N{slightly smiling face}\"\n",
    "}\n",
    "output = \"\"\n",
    "for dig in phone_no:\n",
    "    output += digit_mapping.get(dig, \"!\") + \" \"\n",
    "    print(output)\n",
    "    \n",
    "print(digit_mapping.get(\"5\"))\n",
    "    "
   ]
  },
  {
   "cell_type": "code",
   "execution_count": 16,
   "id": "44f6ee6a",
   "metadata": {},
   "outputs": [
    {
     "name": "stdout",
     "output_type": "stream",
     "text": [
      "😒\n",
      "😠\n",
      "🙂\n"
     ]
    }
   ],
   "source": [
    "#Emoji Converter\n",
    "print(\"\\N{unamused face}\")\n",
    "print(\"\\N{angry face}\")\n",
    "print(\"\\N{slightly smiling face}\")\n"
   ]
  },
  {
   "cell_type": "code",
   "execution_count": 17,
   "id": "07b4c842",
   "metadata": {},
   "outputs": [],
   "source": [
    "#pip install emoji"
   ]
  },
  {
   "cell_type": "code",
   "execution_count": 9,
   "id": "3b656b02",
   "metadata": {},
   "outputs": [],
   "source": [
    "#from emoji import emojize"
   ]
  },
  {
   "cell_type": "code",
   "execution_count": 10,
   "id": "f0d153db",
   "metadata": {},
   "outputs": [],
   "source": [
    "#print(emojize(\":smiling_face_with_sunglasses\"))"
   ]
  },
  {
   "cell_type": "code",
   "execution_count": 2,
   "id": "cb4b9349",
   "metadata": {},
   "outputs": [
    {
     "name": "stdout",
     "output_type": "stream",
     "text": [
      "Start\n",
      "Hello there\n",
      "welcome to spyder notebook\n",
      "finish\n"
     ]
    }
   ],
   "source": [
    "#Functions\n",
    "def greetings():\n",
    "    print(\"Hello there\")\n",
    "    print(\"welcome to spyder notebook\")\n",
    "\n",
    "    \n",
    "print(\"Start\")\n",
    "greetings()\n",
    "print(\"finish\")\n"
   ]
  },
  {
   "cell_type": "code",
   "execution_count": 45,
   "id": "0eb0cfaf",
   "metadata": {},
   "outputs": [
    {
     "name": "stdout",
     "output_type": "stream",
     "text": [
      "Hello Tonito, Chiwa\n",
      "welcome to spyder notebook!\n",
      "finish\n"
     ]
    }
   ],
   "source": [
    "#Parameters\n",
    "def greetings_tonito(first_name, second_name):\n",
    "    print(f'Hello {first_name}, {second_name}')\n",
    "    print(\"welcome to spyder notebook!\")\n",
    "    \n",
    "greetings_tonito(\"Tonito\", \"Chiwa\")   \n",
    "print(\"finish\")"
   ]
  },
  {
   "cell_type": "code",
   "execution_count": 46,
   "id": "3b270ffb",
   "metadata": {},
   "outputs": [
    {
     "name": "stdout",
     "output_type": "stream",
     "text": [
      "Good morning babe, Welcome to Python\n",
      "This is Tonito your man.\n",
      "I am so grateful for  the Cookies, they were so sweet & yummy.\n",
      "I love you 🙂 and may God Bless you.\n",
      "Have a greate day love.\n"
     ]
    }
   ],
   "source": [
    "def love_gift(name, gift):\n",
    "    print(\"Good morning babe, Welcome to Python\")\n",
    "    print(\"This is \" + name + \" your man.\")\n",
    "    print(\"I am so grateful for  the \" + gift + \", they were so sweet & yummy.\")\n",
    "    print(\"I love you \\N{slightly smiling face} and may God Bless you.\")\n",
    "    print(\"Have a greate day love.\")\n",
    "\n",
    "\n",
    "love_gift(\"Tonito\", \"Cookies\")\n",
    "    "
   ]
  },
  {
   "cell_type": "code",
   "execution_count": 1,
   "id": "415b8a25",
   "metadata": {},
   "outputs": [
    {
     "name": "stdout",
     "output_type": "stream",
     "text": [
      "Start\n",
      "Hello Antony, Wachira\n",
      "welcome to spyder notebook!\n",
      "Hello Chiwa, Tonito\n",
      "welcome to spyder notebook!\n",
      "finish\n"
     ]
    }
   ],
   "source": [
    "#Keywords Arguments\n",
    "def greetings(first_name, second_name):\n",
    "    print(f'Hello {first_name}, {second_name}')\n",
    "    print(\"welcome to spyder notebook!\")\n",
    "    \n",
    "    \n",
    "print(\"Start\")\n",
    "greetings(\"Antony\", \"Wachira\")\n",
    "greetings(second_name = \"Tonito\", first_name = \"Chiwa\")\n",
    "print(\"finish\")"
   ]
  },
  {
   "cell_type": "code",
   "execution_count": 19,
   "id": "ecdacc6c",
   "metadata": {},
   "outputs": [
    {
     "name": "stdout",
     "output_type": "stream",
     "text": [
      "25\n"
     ]
    }
   ],
   "source": [
    "#Return Statements\n",
    "def square(number):\n",
    "    return number*number\n",
    "print(square(5))"
   ]
  },
  {
   "cell_type": "code",
   "execution_count": null,
   "id": "d3d214ec",
   "metadata": {},
   "outputs": [],
   "source": [
    "#Creating a Reusable Functions\n"
   ]
  },
  {
   "cell_type": "code",
   "execution_count": null,
   "id": "4656bd3a",
   "metadata": {},
   "outputs": [],
   "source": [
    "#Exemptions(How to handle errors in python)\n"
   ]
  },
  {
   "cell_type": "code",
   "execution_count": 2,
   "id": "006c02da",
   "metadata": {},
   "outputs": [
    {
     "name": "stdout",
     "output_type": "stream",
     "text": [
      "Age: h\n",
      "Invalid Value\n"
     ]
    }
   ],
   "source": [
    "#How to handle exception raised in a programe.\n",
    "try:\n",
    "    age = int(input('Age: '))\n",
    "    print(age)\n",
    "except ValueError:\n",
    "        print(\"Invalid Value\")\n"
   ]
  },
  {
   "cell_type": "code",
   "execution_count": 12,
   "id": "7d27165c",
   "metadata": {},
   "outputs": [
    {
     "name": "stdout",
     "output_type": "stream",
     "text": [
      "509\n",
      "draw\n",
      "5443\n"
     ]
    }
   ],
   "source": [
    "#Class\n",
    "class Point:\n",
    "    def move(self):\n",
    "        print(\"move\")\n",
    "        \n",
    "    def draw(self):\n",
    "        print(\"draw\")\n",
    "        \n",
    "        \n",
    "point1 = Point()\n",
    "point1.x = 509\n",
    "print(point1.x)\n",
    "point1.draw()\n",
    "point2 = Point()\n",
    "point2.y = 5443\n",
    "print(point2.y)\n"
   ]
  },
  {
   "cell_type": "code",
   "execution_count": 20,
   "id": "44266227",
   "metadata": {},
   "outputs": [
    {
     "name": "stdout",
     "output_type": "stream",
     "text": [
      "10\n",
      "talk\n"
     ]
    }
   ],
   "source": [
    "#Constructors\n",
    "class Point:\n",
    "    def __init__(self, x, y):\n",
    "        self.x = x\n",
    "        self.y = y\n",
    "    def move(self):\n",
    "        print(\"move\")\n",
    "        \n",
    "    def draw(self):\n",
    "        print(\"draw\")\n",
    "        \n",
    "        \n",
    "point = Point(10, 20)\n",
    "print(point.x)\n",
    "\n",
    "class Person:\n",
    "    def talk(self):\n",
    "        print(\"talk\")\n",
    "        \n",
    "    \n",
    "john = Person()\n",
    "john.talk()\n",
    "\n"
   ]
  },
  {
   "cell_type": "code",
   "execution_count": 2,
   "id": "caea62c5",
   "metadata": {},
   "outputs": [
    {
     "name": "stdout",
     "output_type": "stream",
     "text": [
      "Hi, I am Antony Wachira\n",
      "Hi, I am Bob Smith\n"
     ]
    }
   ],
   "source": [
    "class Person:\n",
    "    def __init__ (self, name):\n",
    "        self.name = name\n",
    "        \n",
    "    \n",
    "    def talk(self):\n",
    "        print(f\"Hi, I am {self.name}\")\n",
    "    \n",
    "john = Person(\"Antony Wachira\")\n",
    "john.talk()\n",
    "bob = Person(\"Bob Smith\")\n",
    "bob.talk()"
   ]
  },
  {
   "cell_type": "code",
   "execution_count": 39,
   "id": "87b9bb9b",
   "metadata": {},
   "outputs": [
    {
     "name": "stdout",
     "output_type": "stream",
     "text": [
      "bark\n",
      "annoying\n"
     ]
    }
   ],
   "source": [
    "#Inheritance\n",
    "class Mammal:\n",
    "    def walk(self):\n",
    "        print(\"walk\")\n",
    "        \n",
    "\n",
    "class Dog(Mammal):\n",
    "    def bark(self):\n",
    "        print (\"bark\")\n",
    "\n",
    "\n",
    "class Cat(Mammal):\n",
    "    def be_annoying(self):\n",
    "        print(\"annoying\")\n",
    "\n",
    "dog1 = Dog()\n",
    "dog1.bark()\n",
    "cat1 = Cat()\n",
    "cat1.be_annoying()"
   ]
  },
  {
   "cell_type": "code",
   "execution_count": 16,
   "id": "814e2fec",
   "metadata": {},
   "outputs": [
    {
     "name": "stdout",
     "output_type": "stream",
     "text": [
      "1876\n"
     ]
    }
   ],
   "source": [
    "#Return Statements in Python\n",
    "def even_num(num1, num2, num3):\n",
    "    return num1*num2*num3\n",
    "\n",
    "x = even_num(4,67,7)\n",
    "print(x)\n",
    "\n"
   ]
  },
  {
   "cell_type": "code",
   "execution_count": 21,
   "id": "86231fe9",
   "metadata": {},
   "outputs": [
    {
     "name": "stdout",
     "output_type": "stream",
     "text": [
      "{'wachira', 'wambui', 'muriithi'}\n",
      "Enter a number: 68\n",
      "68\n",
      "34.0\n",
      "{3, 4, 6, 70, 75, 77, 10000, 50, 88, 60}\n",
      "one\n",
      "Antonio\n"
     ]
    }
   ],
   "source": [
    "#Set\n",
    "second_name = {'wachira', 'muriithi', 'wambui'}\n",
    "print(second_name)\n",
    "number = input(\"Enter a number: \")\n",
    "print(number)\n",
    "print(float(number)/2)\n",
    "\n",
    "#Defaultdict\n",
    "my_list = [4,6,75,3,6,77,77,88,50,10000,70,60]\n",
    "my_set = set(my_list)\n",
    "print(my_set)\n",
    "#Defaultdict\n",
    "digit_mapping = {\n",
    "    \"1\":\"one\",\n",
    "    \"2\":\"two\",\n",
    "    \"3\":\"three\",\n",
    "    \"4\":\"four\",\n",
    "    \"0\":\"zero\",\n",
    "    \"9\":\"nine\",\n",
    "    \"7\":\"seven\",\n",
    "    \"5\":\"\\N{slightly smiling face}\"\n",
    "}\n",
    "print(digit_mapping[\"1\"])\n",
    "from collections import defaultdict\n",
    "digit_mapping = defaultdict(lambda: \"Antonio\")\n",
    "print(digit_mapping[\"59\"])"
   ]
  },
  {
   "cell_type": "code",
   "execution_count": 4,
   "id": "a7ba0bac",
   "metadata": {},
   "outputs": [
    {
     "data": {
      "text/plain": [
       "'This module provides access to the mathematical functions\\ndefined by the C standard.'"
      ]
     },
     "execution_count": 4,
     "metadata": {},
     "output_type": "execute_result"
    }
   ],
   "source": [
    "import math\n",
    "math.__doc__\n",
    "\n"
   ]
  },
  {
   "cell_type": "markdown",
   "id": "50b5adcd",
   "metadata": {},
   "source": [
    "#creating a module\n",
    "import numpy as np"
   ]
  },
  {
   "cell_type": "code",
   "execution_count": 3,
   "id": "5063de80",
   "metadata": {},
   "outputs": [],
   "source": []
  },
  {
   "cell_type": "code",
   "execution_count": 4,
   "id": "52ca2594",
   "metadata": {},
   "outputs": [
    {
     "data": {
      "text/plain": [
       "3.141592653589793"
      ]
     },
     "execution_count": 4,
     "metadata": {},
     "output_type": "execute_result"
    }
   ],
   "source": [
    "np.pi"
   ]
  },
  {
   "cell_type": "code",
   "execution_count": 3,
   "id": "91c4b03c",
   "metadata": {},
   "outputs": [
    {
     "name": "stdout",
     "output_type": "stream",
     "text": [
      "[0. 0. 0. 0. 0.]\n",
      "<class 'numpy.ndarray'>\n",
      "<class 'numpy.float64'>\n",
      "[ 8 39 10 13]\n",
      "[ 2.          4.16666667  6.33333333  8.5        10.66666667 12.83333333\n",
      " 15.        ]\n",
      "[[ 4  5  3  5  3  4  5  2]\n",
      " [ 9  8  7  5  4 33  3  3]]\n",
      "[92 13 91 11 19  9 68 70 71 30]\n",
      "9\n",
      "[11 19  9 68]\n",
      "13\n",
      "47.4\n",
      "474\n",
      "32.36417772785213\n",
      "9\n",
      "92\n",
      "1047.44\n",
      "112417472\n",
      "[[ 2  3  3  4  4  5  5  5]\n",
      " [ 3  3  4  5  7  8  9 33]]\n"
     ]
    }
   ],
   "source": [
    "#Working with NumPy and array\n",
    "import numpy as np\n",
    "a = np.zeros(5)\n",
    "print(a)\n",
    "print(type(a))\n",
    "print(type(a[0]))\n",
    "array1 = np.array([3,5,2,4,])\n",
    "array2 = np.array([5,34,8,9])\n",
    "array3 = array1+array2\n",
    "print(array3)\n",
    "print(np.linspace(2,15,7))# Creates array 2 is the starting point, 15 is the end point and 7 is the no. of elements.\n",
    "b_list = ([4,5,3,5,3,4,5,2],[9,8,7,5,4,33,3,3])\n",
    "c = np.array(b_list)\n",
    "print(c)\n",
    "d = np.random.randint(100,size = 10)\n",
    "print(d)\n",
    "print(d[5])\n",
    "print(d[3:7])\n",
    "print(d[-9])\n",
    "print(np.mean(d))\n",
    "print(np.sum(d))\n",
    "print(np.std(d))\n",
    "print(np.min(d))\n",
    "print(np.max(d))\n",
    "print(np.var(d))\n",
    "print(np.prod(d))\n",
    "print(np.sort(b_list))"
   ]
  },
  {
   "cell_type": "code",
   "execution_count": null,
   "id": "410a18cd",
   "metadata": {
    "scrolled": true
   },
   "outputs": [],
   "source": [
    "#Working with pandas\n",
    "#import pandas as pd"
   ]
  },
  {
   "cell_type": "code",
   "execution_count": null,
   "id": "85acaf74",
   "metadata": {},
   "outputs": [],
   "source": [
    "df = pd.read_csv(r\"D:\\Study\\data sci assi\\KENTemp.csv\")"
   ]
  },
  {
   "cell_type": "code",
   "execution_count": null,
   "id": "5391fcb5",
   "metadata": {},
   "outputs": [],
   "source": [
    "df.tail()"
   ]
  },
  {
   "cell_type": "code",
   "execution_count": null,
   "id": "2f035517",
   "metadata": {},
   "outputs": [],
   "source": [
    "df.head()"
   ]
  },
  {
   "cell_type": "code",
   "execution_count": 1,
   "id": "bad71d9c",
   "metadata": {},
   "outputs": [],
   "source": [
    "# NumPy assignment data science\n",
    "import pandas as pd\n",
    "import numpy as np"
   ]
  },
  {
   "cell_type": "code",
   "execution_count": null,
   "id": "41a21793",
   "metadata": {},
   "outputs": [],
   "source": [
    "data = np.genfromtxt(\"KENTemp.csv\", delimiter = \",\")\n",
    "data = pd.read_csv(\"KENTemp.csv\")\n",
    "#data = pd.read_csv(r\"D:\\Study\\data sci assi\\KENTemp.csv\")\n",
    "print(data[data['temperature'].between(10,15)].head(10))\n",
    "data.describe()\n",
    "print(data['date'].max())\n",
    "print(data['date'].min())\n",
    "print(data['temperature'].max())\n",
    "print(data['temperature'].min())\n",
    "print(data['temperature'].min())\n"
   ]
  },
  {
   "cell_type": "code",
   "execution_count": 3,
   "id": "52937ae3",
   "metadata": {},
   "outputs": [
    {
     "data": {
      "text/plain": [
       "date           01-01-22 0:0001-01-22 0:0101-01-22 0:0201-01-2...\n",
       "temperature                                       8620590.631817\n",
       "dtype: object"
      ]
     },
     "execution_count": 3,
     "metadata": {},
     "output_type": "execute_result"
    }
   ],
   "source": [
    "#data\n",
    "data.sum()"
   ]
  },
  {
   "cell_type": "code",
   "execution_count": 4,
   "id": "3b6ad364",
   "metadata": {},
   "outputs": [
    {
     "data": {
      "text/html": [
       "<div>\n",
       "<style scoped>\n",
       "    .dataframe tbody tr th:only-of-type {\n",
       "        vertical-align: middle;\n",
       "    }\n",
       "\n",
       "    .dataframe tbody tr th {\n",
       "        vertical-align: top;\n",
       "    }\n",
       "\n",
       "    .dataframe thead th {\n",
       "        text-align: right;\n",
       "    }\n",
       "</style>\n",
       "<table border=\"1\" class=\"dataframe\">\n",
       "  <thead>\n",
       "    <tr style=\"text-align: right;\">\n",
       "      <th></th>\n",
       "      <th>date</th>\n",
       "      <th>temperature</th>\n",
       "    </tr>\n",
       "  </thead>\n",
       "  <tbody>\n",
       "    <tr>\n",
       "      <th>0</th>\n",
       "      <td>01-01-22 0:00</td>\n",
       "      <td>21.035860</td>\n",
       "    </tr>\n",
       "    <tr>\n",
       "      <th>1</th>\n",
       "      <td>01-01-22 0:01</td>\n",
       "      <td>21.020624</td>\n",
       "    </tr>\n",
       "    <tr>\n",
       "      <th>2</th>\n",
       "      <td>01-01-22 0:02</td>\n",
       "      <td>21.000704</td>\n",
       "    </tr>\n",
       "    <tr>\n",
       "      <th>3</th>\n",
       "      <td>01-01-22 0:03</td>\n",
       "      <td>20.974922</td>\n",
       "    </tr>\n",
       "    <tr>\n",
       "      <th>4</th>\n",
       "      <td>01-01-22 0:05</td>\n",
       "      <td>20.947382</td>\n",
       "    </tr>\n",
       "    <tr>\n",
       "      <th>...</th>\n",
       "      <td>...</td>\n",
       "      <td>...</td>\n",
       "    </tr>\n",
       "    <tr>\n",
       "      <th>384999</th>\n",
       "      <td>19-12-22 20:26</td>\n",
       "      <td>22.543673</td>\n",
       "    </tr>\n",
       "    <tr>\n",
       "      <th>385000</th>\n",
       "      <td>19-12-22 20:27</td>\n",
       "      <td>22.540352</td>\n",
       "    </tr>\n",
       "    <tr>\n",
       "      <th>385001</th>\n",
       "      <td>19-12-22 20:28</td>\n",
       "      <td>22.541523</td>\n",
       "    </tr>\n",
       "    <tr>\n",
       "      <th>385002</th>\n",
       "      <td>19-12-22 20:29</td>\n",
       "      <td>22.536640</td>\n",
       "    </tr>\n",
       "    <tr>\n",
       "      <th>385003</th>\n",
       "      <td>19-12-22 20:30</td>\n",
       "      <td>22.531563</td>\n",
       "    </tr>\n",
       "  </tbody>\n",
       "</table>\n",
       "<p>385004 rows × 2 columns</p>\n",
       "</div>"
      ],
      "text/plain": [
       "                  date  temperature\n",
       "0        01-01-22 0:00    21.035860\n",
       "1        01-01-22 0:01    21.020624\n",
       "2        01-01-22 0:02    21.000704\n",
       "3        01-01-22 0:03    20.974922\n",
       "4        01-01-22 0:05    20.947382\n",
       "...                ...          ...\n",
       "384999  19-12-22 20:26    22.543673\n",
       "385000  19-12-22 20:27    22.540352\n",
       "385001  19-12-22 20:28    22.541523\n",
       "385002  19-12-22 20:29    22.536640\n",
       "385003  19-12-22 20:30    22.531563\n",
       "\n",
       "[385004 rows x 2 columns]"
      ]
     },
     "execution_count": 4,
     "metadata": {},
     "output_type": "execute_result"
    }
   ],
   "source": [
    "data"
   ]
  },
  {
   "cell_type": "code",
   "execution_count": 5,
   "id": "391881f8",
   "metadata": {},
   "outputs": [
    {
     "name": "stdout",
     "output_type": "stream",
     "text": [
      "3.1260787094449913\n",
      "3.1260787094449913\n"
     ]
    }
   ],
   "source": [
    "#Data science Assignment\n",
    "#Ignore warnings\n",
    "import warnings\n",
    "warnings.filterwarnings('ignore')\n",
    "#1 Display the total no. of abbreviations(records)\n",
    "data.shape\n",
    "#2 Calculate and display the average temperatures\n",
    "data.mean(axis='index')\n",
    "#To calculate the standard deviation of the data\n",
    "print(data.std()['temperature'])\n",
    "#Or\n",
    "print(data['temperature'].std())"
   ]
  },
  {
   "cell_type": "code",
   "execution_count": 6,
   "id": "03a7372b",
   "metadata": {
    "scrolled": true
   },
   "outputs": [
    {
     "name": "stdout",
     "output_type": "stream",
     "text": [
      "3.1260787094449913\n",
      "3.1260787094449913\n"
     ]
    }
   ],
   "source": [
    "#To calculate the standard deviation of the data\n",
    "print(data.std()['temperature'])\n",
    "#Or\n",
    "print(data['temperature'].std())"
   ]
  },
  {
   "cell_type": "code",
   "execution_count": 9,
   "id": "621cea8a",
   "metadata": {},
   "outputs": [
    {
     "name": "stdout",
     "output_type": "stream",
     "text": [
      "date           31-10-22 9:59\n",
      "temperature        33.081757\n",
      "dtype: object\n",
      "date           01-01-22 0:00\n",
      "temperature        14.871797\n",
      "dtype: object\n",
      "22.39091186537413\n",
      "Mean tempeatures:  22.39091186537413\n",
      "The number of temperatures the bove mean:  164876\n",
      "The number of temperatures below the mean:  220128\n"
     ]
    }
   ],
   "source": [
    "#Q5 Display the maximum value\n",
    "print(data.max())\n",
    "#Dispay the minimum value\n",
    "print(data.min())\n",
    "#Determine and display the no. of Temperatures that were above the and below the mean\n",
    "#To calculate the mean\n",
    "mean_temps = data.mean()['temperature']\n",
    "print(mean_temps)\n",
    "above_mean = data[data['temperature'] > mean_temps].shape[0]\n",
    "below_mean = data[data['temperature'] < mean_temps].shape[0]\n",
    "print(\"Mean tempeatures: \", mean_temp)\n",
    "print(\"The number of temperatures the bove mean: \", above_mean)\n",
    "print(\"The number of temperatures below the mean: \", below_mean)\n"
   ]
  },
  {
   "cell_type": "code",
   "execution_count": 10,
   "id": "de9507de",
   "metadata": {
    "scrolled": true
   },
   "outputs": [
    {
     "ename": "TypeError",
     "evalue": "_sort_dispatcher() got an unexpected keyword argument 'by'",
     "output_type": "error",
     "traceback": [
      "\u001b[1;31m---------------------------------------------------------------------------\u001b[0m",
      "\u001b[1;31mTypeError\u001b[0m                                 Traceback (most recent call last)",
      "Cell \u001b[1;32mIn[10], line 4\u001b[0m\n\u001b[0;32m      2\u001b[0m mean_value \u001b[38;5;241m=\u001b[39m data\u001b[38;5;241m.\u001b[39mmean()[\u001b[38;5;124m'\u001b[39m\u001b[38;5;124mtemperature\u001b[39m\u001b[38;5;124m'\u001b[39m]\n\u001b[0;32m      3\u001b[0m data[\u001b[38;5;124m'\u001b[39m\u001b[38;5;124mdeviations\u001b[39m\u001b[38;5;124m'\u001b[39m] \u001b[38;5;241m=\u001b[39m \u001b[38;5;28mabs\u001b[39m(data[\u001b[38;5;124m'\u001b[39m\u001b[38;5;124mtemperature\u001b[39m\u001b[38;5;124m'\u001b[39m]\u001b[38;5;241m-\u001b[39mmean_value)\n\u001b[1;32m----> 4\u001b[0m deviation_sorted \u001b[38;5;241m=\u001b[39m \u001b[43mnp\u001b[49m\u001b[38;5;241;43m.\u001b[39;49m\u001b[43msort\u001b[49m\u001b[43m(\u001b[49m\u001b[43mby\u001b[49m\u001b[38;5;241;43m=\u001b[39;49m\u001b[38;5;124;43m'\u001b[39;49m\u001b[38;5;124;43mdata_deviation\u001b[39;49m\u001b[38;5;124;43m'\u001b[39;49m\u001b[43m,\u001b[49m\u001b[43m \u001b[49m\u001b[43mascending\u001b[49m\u001b[38;5;241;43m=\u001b[39;49m\u001b[43m \u001b[49m\u001b[38;5;28;43;01mFalse\u001b[39;49;00m\u001b[43m)\u001b[49m\n\u001b[0;32m      5\u001b[0m top_10_deviations \u001b[38;5;241m=\u001b[39m deviation_sorted\u001b[38;5;241m.\u001b[39mhead(\u001b[38;5;241m10\u001b[39m)\n\u001b[0;32m      6\u001b[0m \u001b[38;5;28mprint\u001b[39m(top_10_deviations)\n",
      "File \u001b[1;32m<__array_function__ internals>:179\u001b[0m, in \u001b[0;36msort\u001b[1;34m(*args, **kwargs)\u001b[0m\n",
      "\u001b[1;31mTypeError\u001b[0m: _sort_dispatcher() got an unexpected keyword argument 'by'"
     ]
    }
   ],
   "source": [
    "#Extracting ten main deviations from the mean\n",
    "mean_value = data.mean()['temperature']\n",
    "data['deviations'] = abs(data['temperature']-mean_value)\n",
    "deviation_sorted = np.sort(by='data_deviation', ascending= False)\n",
    "top_10_deviations = deviation_sorted.head(10)\n",
    "print(top_10_deviations)"
   ]
  },
  {
   "cell_type": "code",
   "execution_count": 17,
   "id": "b7c186b7",
   "metadata": {},
   "outputs": [
    {
     "name": "stdout",
     "output_type": "stream",
     "text": [
      "Words are like the atoms of natural language. They are the smallest unit of meaning that still makes sense on its own. Tokenizing your text by word allows you to identify words that comes up particularly often. For example, if you were analyzing a group of jobs ads, then you might find the word 'python' comes fairly often\n",
      "323\n",
      "{'W', 'k', 'T', 'c', \"'\", 'r', 'e', 's', 'y', 'f', 'w', 'd', 'm', 't', 'i', '.', 'a', 'h', 'F', 'z', ',', ' ', 'o', 'b', 'x', 'n', 'g', 'l', 'p', 'u', 'j'}\n",
      "['Words', 'are', 'like', 'the', 'atoms', 'of', 'natural', 'language.', 'They', 'are', 'the', 'smallest', 'unit', 'of', 'meaning', 'that', 'still', 'makes', 'sense', 'on', 'its', 'own.', 'Tokenizing', 'your', 'text', 'by', 'word', 'allows', 'you', 'to', 'identify', 'words', 'that', 'comes', 'up', 'particularly', 'often.', 'For', 'example,', 'if', 'you', 'were', 'analyzing', 'a', 'group', 'of', 'jobs', 'ads,', 'then', 'you', 'might', 'find', 'the', 'word', \"'python'\", 'comes', 'fairly', 'often']\n",
      "['meaning', 'tokenizing', 'analyzing']\n",
      "[]\n"
     ]
    }
   ],
   "source": [
    "#DS001 exercise\n",
    "text = \"Words are like the atoms of natural language. They are the smallest unit of meaning that still makes sense on its own. Tokenizing your text by word allows you to identify words that comes up particularly often. For example, if you were analyzing a group of jobs ads, then you might find the word 'python' comes fairly often\"\n",
    "print(text)\n",
    "#Generate the no. of characters\n",
    "print(len(text))\n",
    "#Generate unique characters used in the text\n",
    "unique_characters = set(text)\n",
    "print(unique_characters)\n",
    "#Generate and display words used in text\n",
    "words = text.split()\n",
    "print(words)\n",
    "#Display the no of time the term'word' appears in text\n",
    "\n",
    "\n",
    "#Extract words ending wing ...ing\n",
    "import re\n",
    "words_ending_with_ing = re.findall(r'\\b\\w+ing\\b', text.lower())\n",
    "print(words_ending_with_ing)\n",
    "#Generate and display all the words starting with 'th'\n",
    "\n",
    "words_starting_with_th = re.findall(r'\\b\\th*w\\b', text.lower())\n",
    "print(words_starting_with_th)\n",
    "#printing a table indicating 3-letter words and below, 4-6 letter words, and 7-letter words and above. The output should be formatted using string format methods\n",
    "words = re.findall(r'\\b\\w+\\b', text.lower())\n",
    "three_and_below = [word for word in words if len(word) <= 3]\n",
    "four_to_six = [word for word in words if 4 <= len(word) <= 6]\n",
    "seven_and_above = [word for word in words if len(word)>= 7]\n",
    "\n",
    "\n",
    "\n",
    "\n",
    "\n"
   ]
  },
  {
   "cell_type": "code",
   "execution_count": 19,
   "id": "4a1e3fe6",
   "metadata": {},
   "outputs": [
    {
     "name": "stdout",
     "output_type": "stream",
     "text": [
      "Jean Paul: Average Score = 69.33\n",
      "Melody Noel: Average Score = 76.33\n",
      "Jimmy Trend: Average Score = 53.33\n",
      "Paulina Keys: Average Score = 65.67\n"
     ]
    }
   ],
   "source": [
    "# Dictionary representation of the table\n",
    "students = {\n",
    "    \"Jean Paul\": {\"RegNo\": \"TRE-0897/2012\", \"Unit1\": 76, \"Unit2\": 65, \"Unit3\": 67},\n",
    "    \"Melody Noel\": {\"RegNo\": \"TRE-0786/2012\", \"Unit1\": 86, \"Unit2\": 75, \"Unit3\": 68},\n",
    "    \"Jimmy Trend\": {\"RegNo\": \"TRE-0791/2012\", \"Unit1\": 45, \"Unit2\": 54, \"Unit3\": 61},\n",
    "    \"Paulina Keys\": {\"RegNo\": \"TRE-0795/2012\", \"Unit1\": 67, \"Unit2\": 58, \"Unit3\": 72}\n",
    "}\n",
    "\n",
    "# Function to calculate and display average scores\n",
    "def display_average_scores(students):\n",
    "    for name, details in students.items():\n",
    "        # Calculate the average of Unit1, Unit2, and Unit3\n",
    "        average_score = (details[\"Unit1\"] + details[\"Unit2\"] + details[\"Unit3\"]) / 3\n",
    "        print(f\"{name}: Average Score = {average_score:.2f}\")\n",
    "\n",
    "# Display the average scores\n",
    "display_average_scores(students)\n"
   ]
  },
  {
   "cell_type": "code",
   "execution_count": 6,
   "id": "a82d1971",
   "metadata": {},
   "outputs": [
    {
     "name": "stdout",
     "output_type": "stream",
     "text": [
      "0    0.25\n",
      "1    0.50\n",
      "2    0.75\n",
      "3    1.00\n",
      "dtype: float64\n",
      "d    4\n",
      "b    7\n",
      "s   -5\n",
      "a    3\n",
      "dtype: int64\n",
      "-5\n",
      "Int64Index([1, 12, 47], dtype='int64')\n",
      "Meru\n",
      "Mombasa\n",
      "{'Team': ['Posta Tangers', 'Mathare', 'Goal Mahia'], 'Year': [2019, 2020, 2021], 'Wins': [3, 4, 5], 'Draws': [3, 5, 7], 'Losses': [5, 7, 3]}\n",
      "            Team  Year  Wins  Draws  Losses\n",
      "0  Posta Tangers  2019     3      3       5\n",
      "1        Mathare  2020     4      5       7\n",
      "2     Goal Mahia  2021     5      7       3\n",
      "{'name': ['Ali', 'Faith', 'Antony'], 'Age': [20, 23, 26], 'Heights': [150, 157, 160]}\n",
      "     name  Age  Heights\n",
      "0     Ali   20      150\n",
      "1   Faith   23      157\n",
      "2  Antony   26      160\n",
      "name       Faith\n",
      "Age           26\n",
      "Heights      160\n",
      "dtype: object\n",
      "name       Ali\n",
      "Age         20\n",
      "Heights    150\n",
      "dtype: object\n"
     ]
    }
   ],
   "source": [
    "#Working with pandas\n",
    "import pandas as pd\n",
    "data = pd.Series([0.25,0.5,0.75,1.0])\n",
    "print(data)\n",
    "nm1 = pd.Series([4,7,-5,3], index = ['d','b','s','a'])\n",
    "print(nm1)\n",
    "print(nm1['s'])\n",
    "#print(nm1['s','a','b'])\n",
    "\n",
    "#Dictionariend series\n",
    "county = {\n",
    "    1:\"Mombasa\", 12:\"Meru\", 47:\"Nakuru\"\n",
    "}\n",
    "dt = pd.Series(county)\n",
    "print(dt.index)\n",
    "print(dt[12])\n",
    "print(dt[1])\n",
    "\n",
    "KPL_table = {'Team':['Posta Tangers','Mathare', 'Goal Mahia'], 'Year':[2019, 2020, 2021], 'Wins':[3,4,5],'Draws':[3,5,7], 'Losses':[5,7,3]}\n",
    "print(KPL_table)\n",
    "pl_table = pd.DataFrame(KPL_table)\n",
    "print(pl_table)\n",
    "Data001 = {'name':['Ali','Faith','Antony'], 'Age':[20,23,26], 'Heights':[150,157,160]}\n",
    "print(Data001)\n",
    "dt=pd.DataFrame(Data001)\n",
    "print(dt)\n",
    "print(dt.max(axis=0))\n",
    "print(dt.min(axis=0))\n"
   ]
  },
  {
   "cell_type": "code",
   "execution_count": 3,
   "id": "167d6826",
   "metadata": {},
   "outputs": [
    {
     "name": "stdout",
     "output_type": "stream",
     "text": [
      "{'Jean Paul': {'RegNo': 'TRE-0897/2012', 'Unit1': 76, 'Unit2': 65, 'Unit3': 67}, 'Melody Noel': {'RegNo': 'TRE-0786/2012', 'Unit1': 86, 'Unit2': 75, 'Unit3': 68}, 'Jimmy Trend': {'RegNo': 'TRE-0791/2012', 'Unit1': 45, 'Unit2': 54, 'Unit3': 61}, 'Paulina Keys': {'RegNo': 'TRE-0795/2012', 'Unit1': 67, 'Unit2': 58, 'Unit3': 72}}\n",
      "           Jean Paul    Melody Noel    Jimmy Trend   Paulina Keys\n",
      "RegNo  TRE-0897/2012  TRE-0786/2012  TRE-0791/2012  TRE-0795/2012\n",
      "Unit1             76             86             45             67\n",
      "Unit2             65             75             54             58\n",
      "Unit3             67             68             61             72\n"
     ]
    }
   ],
   "source": [
    "# Dictionary representation of the table\n",
    "students = {\n",
    "    \"Jean Paul\": {\"RegNo\": \"TRE-0897/2012\", \"Unit1\": 76, \"Unit2\": 65, \"Unit3\": 67},\n",
    "    \"Melody Noel\": {\"RegNo\": \"TRE-0786/2012\", \"Unit1\": 86, \"Unit2\": 75, \"Unit3\": 68},\n",
    "    \"Jimmy Trend\": {\"RegNo\": \"TRE-0791/2012\", \"Unit1\": 45, \"Unit2\": 54, \"Unit3\": 61},\n",
    "    \"Paulina Keys\": {\"RegNo\": \"TRE-0795/2012\", \"Unit1\": 67, \"Unit2\": 58, \"Unit3\": 72}\n",
    "}\n",
    "print(students)\n",
    "sts = pd.DataFrame(students)\n",
    "print(sts)"
   ]
  },
  {
   "cell_type": "code",
   "execution_count": 3,
   "id": "5fa8e411",
   "metadata": {},
   "outputs": [
    {
     "name": "stdout",
     "output_type": "stream",
     "text": [
      "             County  Area in Square Km.      Density  Females    Males  \\\n",
      "0           BARINGO            11015.34    50.440000   276480   279081   \n",
      "1             BOMET             2471.30   293.040000   364459   359727   \n",
      "2           BUNGOMA             3592.76   453.950000   835339   795595   \n",
      "3             BUSIA             1134.42   430.240000   256000   232075   \n",
      "4   ELGEYO MARAKWET             3029.78   122.120000   186260   183738   \n",
      "5              EMBU             2818.04   183.180000   261909   254303   \n",
      "6           GARISSA            44175.02    14.100000   288121   334939   \n",
      "7          HOMA BAY             3183.29   302.766635   501340   462454   \n",
      "8            ISIOLO            25336.07     5.660000    69600    73694   \n",
      "9           KAJIADO            21900.97    31.380000   342166   345146   \n",
      "10         KAKAMEGA             3051.23   544.260000   859662   800989   \n",
      "11          KERICHO             2478.99   305.910000   376359   381980   \n",
      "12           KIAMBU             2543.42   638.230000   820673   802609   \n",
      "13           KILIFI            12609.74    88.010000   574209   535526   \n",
      "14        KIRINYAGA             1479.09   357.010000   267424   260630   \n",
      "15            KISII             1317.53   874.580000   601818   550464   \n",
      "16           KISUMU             2085.93   464.500000   494149   474760   \n",
      "17            KITUI            30496.51    33.210000   531427   481282   \n",
      "18            KWALE             8270.15    78.590000   333934   315997   \n",
      "19         LAIKIPIA             9461.92    42.190000   200602   198625   \n",
      "20             LAMU             6273.12    16.190000    48494    53045   \n",
      "21         MACHAKOS             6208.24   176.960000   555445   543139   \n",
      "22          MAKUENI             8008.75   110.450000   453817   430710   \n",
      "23          MANDERA            25991.47    39.470000   465813   559943   \n",
      "24         MARSABIT            70961.19     4.100000   140054   151112   \n",
      "25             MERU             6936.24   195.540000   685645   670656   \n",
      "26           MIGORI             2596.44   353.241361   472814   444356   \n",
      "27          MOMBASA              218.86  4292.090000   452446   486924   \n",
      "28          MURANGA             2558.82   368.370000   484717   457864   \n",
      "29          NAIROBI              695.10  4514.960000  1533139  1605230   \n",
      "30           NAKURU             7495.07   213.920000   798743   804582   \n",
      "31            NANDI             2884.18   261.070000   376477   376488   \n",
      "32            NAROK            17933.05    47.450000   421894   429026   \n",
      "33          NYAMIRA              899.33   665.220000   311204   287048   \n",
      "34        NYANDARUA             3245.25   183.740000   304113   292155   \n",
      "35            NYERI             3337.09   207.830000   353833   339725   \n",
      "36          SAMBURU            21022.15    10.650000   111940   112007   \n",
      "37            SIAYA             2530.38   332.880000   443652   398652   \n",
      "38     TAITA TAVETA            17084.04    16.660000   139323   145334   \n",
      "39       TANA RIVER            38436.91     6.250000   120222   119853   \n",
      "40          THARAKA             2638.83   138.440000   186879   178451   \n",
      "41      TRANS-NZOIA             2495.53   328.090000   411585   407172   \n",
      "42          TURKANA            68680.29    12.450000   410330   445069   \n",
      "43      UASIN GISHU             3345.21   267.300000   445185   448994   \n",
      "44           VIHIGA              530.90  1044.680000   291906   262716   \n",
      "45            WAJIR            56685.83    11.680000   298175   363766   \n",
      "46       WEST POKOT             9169.41    55.910000   257863   254827   \n",
      "\n",
      "    No of HouseHolds  Total Population  \n",
      "0             110649            555561  \n",
      "1             142361            724186  \n",
      "2             321628           1630934  \n",
      "3             103421            488075  \n",
      "4              77555            369998  \n",
      "5             131683            516212  \n",
      "6              98590            623060  \n",
      "7             206255            963794  \n",
      "8              31326            143294  \n",
      "9             173464            687312  \n",
      "10            355679           1660651  \n",
      "11            160134            758339  \n",
      "12            469244           1623282  \n",
      "13            199764           1109735  \n",
      "14            154220            528054  \n",
      "15            245029           1152282  \n",
      "16            226719            968909  \n",
      "17            205491           1012709  \n",
      "18            122047            649931  \n",
      "19            103114            399227  \n",
      "20             22184            101539  \n",
      "21            264500           1098584  \n",
      "22            186478            884527  \n",
      "23            125497           1025756  \n",
      "24             56941            291166  \n",
      "25            319616           1356301  \n",
      "26            180211            917170  \n",
      "27            268700            939370  \n",
      "28            255696            942581  \n",
      "29            985016           3138369  \n",
      "30            409836           1603325  \n",
      "31            154073            752965  \n",
      "32            169220            850920  \n",
      "33            131039            598252  \n",
      "34            143879            596268  \n",
      "35            201703            693558  \n",
      "36             47354            223947  \n",
      "37            199034            842304  \n",
      "38             71090            284657  \n",
      "39             47414            240075  \n",
      "40             88803            365330  \n",
      "41            170117            818757  \n",
      "42            123191            855399  \n",
      "43            202291            894179  \n",
      "44            123347            554622  \n",
      "45             88574            661941  \n",
      "46             93777            512690  \n"
     ]
    },
    {
     "data": {
      "image/png": "[encoded data removed]",
      "text/plain": [
       "<Figure size 640x480 with 1 Axes>"
      ]
     },
     "metadata": {},
     "output_type": "display_data"
    },
    {
     "data": {
      "image/png": "[encoded data removed]",
      "text/plain": [
       "<Figure size 640x480 with 1 Axes>"
      ]
     },
     "metadata": {},
     "output_type": "display_data"
    },
    {
     "data": {
      "image/png": "[encoded data removed]",
      "text/plain": [
       "<Figure size 640x480 with 1 Axes>"
      ]
     },
     "metadata": {},
     "output_type": "display_data"
    },
    {
     "data": {
      "image/png": "[encoded data removed]",
      "text/plain": [
       "<Figure size 1500x800 with 1 Axes>"
      ]
     },
     "metadata": {},
     "output_type": "display_data"
    },
    {
     "name": "stdout",
     "output_type": "stream",
     "text": [
      "['Solarize_Light2', '_classic_test_patch', '_mpl-gallery', '_mpl-gallery-nogrid', 'bmh', 'classic', 'dark_background', 'fast', 'fivethirtyeight', 'ggplot', 'grayscale', 'seaborn-v0_8', 'seaborn-v0_8-bright', 'seaborn-v0_8-colorblind', 'seaborn-v0_8-dark', 'seaborn-v0_8-dark-palette', 'seaborn-v0_8-darkgrid', 'seaborn-v0_8-deep', 'seaborn-v0_8-muted', 'seaborn-v0_8-notebook', 'seaborn-v0_8-paper', 'seaborn-v0_8-pastel', 'seaborn-v0_8-poster', 'seaborn-v0_8-talk', 'seaborn-v0_8-ticks', 'seaborn-v0_8-white', 'seaborn-v0_8-whitegrid', 'tableau-colorblind10']\n"
     ]
    }
   ],
   "source": [
    "#Data Visualization\n",
    "\n",
    "import pandas as pd\n",
    "import numpy as np\n",
    "\n",
    "#matplotlib\n",
    "import matplotlib.pyplot as plt\n",
    "#or\n",
    "import matplotlib as mpl\n",
    "#Seaborn\n",
    "import seaborn as sns\n",
    "\n",
    "#importing population data\n",
    "population_data = pd.read_csv(\"population-distribution-by-sex-number-of-households-area-and-density-csv-1.csv\")\n",
    "print(population_data)\n",
    "\n",
    "#or\n",
    "\n",
    "#population_data = pd.read_csv(r\"C:\\Users\\user\\Downloads\\population-distribution-by-sex-number-of-households-area-and-density-csv-1.csv\")\n",
    "#print(population_data)\n",
    "#population_data = pd.read_csv(r\"C:\\Users\\user\\Downloads\\edited population.csv\")\n",
    "#print(population_data)\n",
    "\n",
    "#remove any raw with missing data\n",
    "#population_data = population_data.dropna(axis=0, how='any')\n",
    "#print(population_data)\n",
    "\n",
    "#Display bar\n",
    "%matplotlib inline\n",
    "import matplotlib.pyplot as plt #\n",
    "plt.bar(x = population_data.County, height = population_data.Females)\n",
    "plt.show()\n",
    "\n",
    "#Bar plot customization\n",
    "plt.bar(x = population_data.County, height = population_data['Females'], color = \"Green\")\n",
    "plt.title('Female Population Data')\n",
    "plt.xlabel(\"County\")\n",
    "plt.ylabel('Female')\n",
    "plt.grid(color='#95a5a6', linestyle='--', linewidth=1, axis= 'y', alpha = 1)\n",
    "plt.xticks(rotation = 90)\n",
    "plt.show()\n",
    "\n",
    "#Bar plot customization with Total Population\n",
    "plt.bar(x = population_data.County, height = population_data['Total Population'], color = 'purple')\n",
    "plt.title('Total Population Data')\n",
    "plt.xlabel(\"County\")\n",
    "plt.ylabel('Total Population')\n",
    "plt.grid(color='#95a5a6', linestyle='--', linewidth=1, axis= 'y', alpha = 1)\n",
    "plt.xticks(rotation = 90)\n",
    "\n",
    "plt.show()\n",
    "\n",
    "# Create a Figure\n",
    "fig = plt.figure(figsize=(15,8))\n",
    "plt.bar(x = population_data.County, height = population_data['Males'], color = 'green')\n",
    "plt.title('Total Population Data')\n",
    "plt.xlabel(\"County\")\n",
    "plt.ylabel('Total Population')\n",
    "plt.grid(color='#95a5a6', linestyle='--', linewidth=1, axis= 'y', alpha = 1)\n",
    "plt.xticks(rotation = 90)\n",
    "plt.show()\n",
    "print(plt.style.available)\n"
   ]
  },
  {
   "cell_type": "code",
   "execution_count": 34,
   "id": "b6366acd",
   "metadata": {
    "scrolled": false
   },
   "outputs": [
    {
     "name": "stdout",
     "output_type": "stream",
     "text": [
      "[ 1.02627513e+00  1.06210678e+00  7.95602660e-01 -5.34886236e-01\n",
      " -2.04009276e+00 -2.37979354e+00 -7.36264856e-01 -5.78368226e-01\n",
      " -2.02850419e+00 -1.34623840e+00 -1.22469046e+00  7.58435486e-01\n",
      "  1.28268814e-01 -7.78196505e-01 -7.69638096e-01  3.10901940e-01\n",
      "  7.69058216e-01  2.94306995e-02  6.94541418e-01  1.79493577e+00\n",
      "  2.62351943e+00  2.21715642e+00  1.19623621e+00  1.78705148e+00\n",
      "  2.14572527e+00  1.27365897e+00  8.96448230e-01  2.19012910e+00\n",
      "  1.65215461e+00  1.83748742e-01  1.36086135e+00  1.93185964e+00\n",
      "  1.12153039e+00  2.21470226e+00  1.11751487e+00 -8.42935774e-02\n",
      " -4.76637145e-01 -1.19664875e+00 -2.23035283e+00  6.64763874e-01\n",
      " -7.06868828e-01  2.87758111e-01 -1.23292917e-01  4.57531747e-01\n",
      "  1.37511420e+00  1.43077080e+00  4.34761375e-01  7.77357402e-01\n",
      "  7.48463257e-02  2.15198268e-01  3.20014730e-01  6.63799625e-01\n",
      "  2.48352089e+00  4.34574696e+00  4.74170117e+00  3.86974287e+00\n",
      "  4.70691832e+00  5.12823126e+00  5.38822787e+00  6.71353351e+00\n",
      "  7.86147584e+00  8.70743771e+00  7.56229778e+00  7.87690231e+00\n",
      "  7.03912243e+00  5.85685676e+00  6.92693431e+00  7.54344290e+00\n",
      "  8.14590098e+00  7.25837454e+00  6.34419451e+00  5.24175007e+00\n",
      "  5.69175797e+00  5.75965373e+00  4.83197719e+00  4.61423458e+00\n",
      "  4.34942142e+00  2.91006137e+00  1.71725423e+00  1.49203166e+00\n",
      "  5.97201467e-01 -5.98312991e-02 -1.23766967e+00 -2.40872095e+00\n",
      " -1.56421651e+00 -3.44797342e+00 -3.05028230e+00 -3.56094086e+00\n",
      " -2.09847529e+00  1.18368904e+00  9.19941407e-01  1.78907439e+00\n",
      "  1.81612527e+00 -2.55844152e-01 -2.55003472e-01 -3.22901819e+00\n",
      " -3.75246777e+00 -2.40484752e+00 -2.18785456e+00 -3.78465772e+00\n",
      " -3.77837108e+00 -3.34798887e+00 -1.61126114e+00 -3.53293897e+00\n",
      " -3.80754767e+00 -3.70035769e+00 -5.16193078e+00 -3.84912167e+00\n",
      " -4.11098157e+00 -4.45028175e+00 -4.63818692e+00 -4.14951900e+00\n",
      " -3.37638292e+00 -3.99847724e+00 -2.82400242e+00 -3.35446737e+00\n",
      " -3.25459058e+00 -5.15590009e+00 -4.16607998e+00 -3.34095138e+00\n",
      " -3.46810402e+00 -2.05929649e+00 -2.33477426e+00 -3.98259886e+00\n",
      " -4.93316722e+00 -4.96439319e+00 -4.80221582e+00 -4.57324626e+00\n",
      " -3.91614670e+00 -4.13703120e+00 -4.05408528e+00 -1.25367577e+00\n",
      "  5.11229176e-01  1.30424736e+00  2.14287262e+00  3.45095911e+00\n",
      "  2.62760192e+00  3.15428563e+00  1.19353762e+00  1.06018627e+00\n",
      " -4.88679285e-02  7.86333746e-01  1.24350198e+00  2.86897878e+00\n",
      "  1.86513609e+00  8.75013436e-01  6.39621587e-01  7.48581213e-01\n",
      "  1.79493132e+00  2.59113363e+00  2.35821025e+00  1.38986179e+00\n",
      " -8.22417742e-01  6.29602955e-01  2.47697915e-01 -6.48012958e-01\n",
      " -7.33438197e-01 -2.48492269e+00 -1.77907364e+00 -2.07581528e+00\n",
      " -1.79597091e-01 -1.73435445e-01 -9.51745167e-01 -3.58738735e-01\n",
      "  7.34570303e-01 -2.76168067e-01  3.96883025e-01  2.84539841e-01\n",
      "  2.88640943e+00  5.01073360e+00  4.54986156e+00  3.50752908e+00\n",
      "  2.02311549e+00  2.82789978e+00  3.29033210e+00  7.50746742e-01\n",
      "  7.44868776e-01  1.43183381e-01  2.53144163e+00  5.63290221e-01\n",
      "  3.13592835e-01  1.00060639e+00  4.51602377e-01 -5.50024618e-01\n",
      " -5.68207144e-01 -1.14557855e+00 -1.63774404e+00 -8.70458224e-01\n",
      " -8.14172138e-01 -8.47755875e-01 -2.37564697e+00 -2.05112835e+00\n",
      " -5.03972382e-01 -2.29734472e+00 -2.96580228e+00 -1.88508515e+00\n",
      " -2.74070861e+00 -1.83725438e+00 -2.67486695e+00 -2.55442990e+00\n",
      " -2.51650538e+00 -3.95243726e+00 -5.14208669e+00 -5.70083814e+00\n",
      " -5.19733559e+00 -5.73475104e+00 -5.99810737e+00 -6.54292823e+00\n",
      " -6.93562242e+00 -7.17036113e+00 -7.13565311e+00 -7.18342359e+00\n",
      " -8.24731041e+00 -8.89527209e+00 -7.50638307e+00 -7.29171501e+00\n",
      " -7.49929355e+00 -8.22871881e+00 -8.51428556e+00 -7.93816523e+00\n",
      " -7.94046503e+00 -9.08416556e+00 -6.92834704e+00 -4.84838592e+00\n",
      " -4.83251305e+00 -4.55344219e+00 -2.72230212e+00 -1.49420296e+00\n",
      " -5.51031742e-01  9.71106122e-03 -5.30867332e-01 -7.81742568e-01\n",
      " -4.30962520e-01 -1.60953254e+00 -1.16112767e+00 -2.93689525e+00\n",
      " -2.45830541e+00 -2.00266361e+00 -1.57498907e+00 -1.86461849e+00\n",
      " -2.20539923e+00 -2.84672779e+00 -1.46049237e+00 -1.85240679e+00\n",
      " -1.10630047e+00 -1.53118421e+00 -1.60318269e+00 -2.82541379e+00\n",
      " -3.02687471e+00 -2.97220778e+00 -1.27934521e+00 -9.17252694e-01\n",
      " -5.67899235e-01 -1.68041762e+00 -1.98884708e+00 -1.32962315e+00\n",
      " -8.25979072e-01 -1.46580280e+00 -1.88476211e+00 -3.31587865e+00\n",
      " -2.97993231e+00 -2.54637158e+00 -4.20314553e-01  8.76358971e-02\n",
      "  7.00368956e-01  1.18450821e+00  4.41599165e-01  1.12841026e+00\n",
      "  1.13187797e+00  7.19571996e-01  1.45889580e-01  1.01947086e+00\n",
      "  5.26419523e-01  1.87048380e-02 -3.11995227e-01 -1.55996953e+00\n",
      " -2.58778331e+00 -4.18818658e-01 -7.08959448e-01 -7.97378098e-01\n",
      " -1.45845801e+00 -1.41211916e+00 -2.15591681e+00 -4.08676010e-01\n",
      " -4.26571111e-01  1.21183463e+00  1.55444922e+00  1.56691081e+00\n",
      "  2.04826202e-01 -3.31013964e-01  5.09770169e-01  1.08871999e+00\n",
      " -4.88805163e-01 -2.75791336e+00 -3.96306736e+00 -3.45694886e+00\n",
      " -3.87763729e+00 -4.42295307e+00 -4.41970265e+00 -4.48905864e+00\n",
      " -5.74712014e+00 -4.00237750e+00 -4.30667185e+00 -4.09799678e+00\n",
      " -4.65188487e+00 -2.82678208e+00 -1.49523834e+00 -3.58969286e+00\n",
      " -3.10422057e+00 -3.29384571e+00 -5.43305710e+00 -6.30937253e+00\n",
      " -5.78132207e+00 -4.45273805e+00 -4.27806275e+00 -3.96662515e+00\n",
      " -3.90634445e+00 -4.64401315e+00 -5.64005541e+00 -6.85752682e+00\n",
      " -6.87269675e+00 -6.65721480e+00 -7.09727731e+00 -7.10919038e+00\n",
      " -6.74155766e+00 -5.18146779e+00 -4.65992924e+00 -5.20402890e+00\n",
      " -6.04236230e+00 -6.62519280e+00 -6.73964322e+00 -5.52906301e+00\n",
      " -5.68543545e+00 -4.57857158e+00 -4.77609640e+00 -4.98487861e+00\n",
      " -5.97531596e+00 -6.07835046e+00 -8.03437724e+00 -8.50043673e+00\n",
      " -8.24227554e+00 -7.36605467e+00 -8.60596462e+00 -1.04244669e+01\n",
      " -1.06078017e+01 -1.13183632e+01 -1.10214447e+01 -9.45038383e+00\n",
      " -8.53864824e+00 -8.56747538e+00 -8.63213838e+00 -7.59476956e+00\n",
      " -8.16553374e+00 -9.07289938e+00 -9.65823476e+00 -1.00986428e+01\n",
      " -8.76006952e+00 -8.30018984e+00 -7.79443119e+00 -7.63493892e+00\n",
      " -7.36108842e+00 -7.36907886e+00 -7.73866566e+00 -6.26042203e+00\n",
      " -4.89937501e+00 -4.09521159e+00 -5.54933899e+00 -5.19904636e+00\n",
      " -4.97726536e+00 -4.50389442e+00 -5.30941839e+00 -6.19924285e+00\n",
      " -5.83396756e+00 -6.02264321e+00 -6.31351246e+00 -6.23541473e+00\n",
      " -7.92027020e+00 -5.29563729e+00 -4.13351750e+00 -3.29947465e+00\n",
      " -3.67784338e+00 -2.54227884e+00 -1.82496072e+00 -1.74005935e+00\n",
      " -3.06199865e+00 -2.28503479e+00 -3.91026690e+00 -4.58755334e+00\n",
      " -5.47192693e+00 -6.19115925e+00 -6.05892506e+00 -5.32882550e+00\n",
      " -3.67187650e+00 -2.91646147e+00 -5.28190395e+00 -6.32782737e+00\n",
      " -6.54906119e+00 -6.88597537e+00 -6.41437531e+00 -6.60225280e+00\n",
      " -6.46562935e+00 -6.28510234e+00 -5.94129692e+00 -6.35593068e+00\n",
      " -7.41616435e+00 -9.59497088e+00 -9.77499924e+00 -1.01125653e+01\n",
      " -9.28155796e+00 -1.00029795e+01 -9.61613032e+00 -8.64381250e+00\n",
      " -7.90607060e+00 -7.56900486e+00 -8.54728181e+00 -1.03670173e+01\n",
      " -8.82203645e+00 -7.29844724e+00 -7.48927054e+00 -8.03750141e+00\n",
      " -7.85365106e+00 -6.33390870e+00 -4.82543389e+00 -4.99415770e+00\n",
      " -5.90282528e+00 -5.07957141e+00 -4.77886818e+00 -4.11743322e+00\n",
      " -5.25252564e+00 -5.17887631e+00 -7.08997981e+00 -6.16415598e+00\n",
      " -4.81721612e+00 -4.04588967e+00 -3.25444560e+00 -2.82964742e+00\n",
      " -5.20136840e+00 -4.70238931e+00 -6.75788327e+00 -6.46793947e+00\n",
      " -6.13986307e+00 -6.17777183e+00 -6.33772684e+00 -5.49746474e+00\n",
      " -6.40621297e+00 -7.00705102e+00 -8.47465172e+00 -8.21326251e+00\n",
      " -7.63923391e+00 -6.75806724e+00 -6.41861645e+00 -6.62663141e+00\n",
      " -5.07456311e+00 -5.32813784e+00 -4.83972369e+00 -3.20212236e+00\n",
      " -2.64556857e+00 -1.62577654e+00 -2.24921377e+00 -3.97033711e+00\n",
      " -4.50479000e+00 -4.21481674e+00 -3.73815574e+00 -4.73318795e+00\n",
      " -3.70244929e+00 -3.74481898e+00 -4.26366576e+00 -2.39480726e+00\n",
      " -2.77996295e+00 -3.21387509e+00 -3.51624833e+00 -2.94172936e+00\n",
      " -2.39511013e+00 -1.88877456e+00 -4.26559799e-01 -1.03815021e-01\n",
      "  1.30184734e+00  2.92269033e+00  2.18391564e+00  1.22072360e+00\n",
      "  8.00811513e-01  1.96651594e+00  3.02276846e+00  3.71382315e+00\n",
      "  3.23063024e+00  2.26283404e+00  1.79429144e+00  1.46202087e+00\n",
      "  1.35406647e+00  2.80776644e-01 -7.10209759e-01 -1.99798830e+00\n",
      " -2.52507756e+00 -3.05285560e+00 -2.70699941e+00 -3.73737048e+00\n",
      " -2.81813846e+00 -1.99870498e+00 -2.11685701e-01 -1.24152309e+00\n",
      " -1.65652888e+00 -1.94291372e+00 -2.10448571e+00 -1.93721524e+00\n",
      " -2.64227203e+00 -2.84671368e+00 -2.23640345e+00 -2.33372981e+00\n",
      " -2.20886764e+00 -1.03641638e+00  1.04123823e+00  2.63042221e-01\n",
      " -1.18006929e+00 -1.44480436e+00 -1.30102417e+00 -4.04089372e-01\n",
      " -6.30142258e-01  3.67089671e-01  2.55170754e+00  4.03718380e+00\n",
      "  4.76119773e+00  6.19785738e+00  7.39276934e+00  7.79444262e+00\n",
      "  7.29774965e+00  7.23353659e+00  6.72866904e+00  5.33189225e+00\n",
      "  3.49361719e+00  1.61837165e+00 -2.14357197e-01 -1.23181885e+00\n",
      " -2.44400391e+00 -2.44857025e+00 -2.68555049e+00 -2.52045212e+00\n",
      " -1.08437720e+00 -9.16369460e-01 -3.94761174e+00 -3.25919039e+00\n",
      " -3.72500795e+00 -3.28001504e+00 -2.47452487e+00 -1.51141369e+00\n",
      " -6.05469066e-01  1.22661617e+00  7.54308613e-01  3.77984165e-01\n",
      "  3.19718776e+00  4.21683993e+00  1.45961996e+00  8.07071868e-01\n",
      "  7.10470429e-02 -1.12309321e+00  1.32193294e-01  3.22295056e-01\n",
      " -2.40260652e-01 -2.15402380e-01  1.61249915e+00 -3.49959659e-01\n",
      " -3.41734032e-01  1.24562107e+00  1.77244621e+00  2.47815831e+00\n",
      "  4.01176363e+00  3.27598789e+00  3.05982384e+00  5.39679662e+00\n",
      "  7.50375626e+00  6.88022591e+00  7.33954625e+00  7.74818702e+00\n",
      "  6.99768826e+00  7.03245301e+00  7.37989197e+00  8.43907022e+00\n",
      "  8.70531617e+00  8.41609420e+00  9.24746226e+00  8.82328392e+00\n",
      "  9.75837372e+00  1.03720720e+01  1.06828438e+01  1.06353708e+01\n",
      "  8.66962591e+00  1.12267555e+01  1.19421033e+01  1.17858305e+01\n",
      "  1.16306058e+01  1.10200206e+01  1.17058439e+01  1.28065963e+01\n",
      "  1.18360558e+01  1.12506294e+01  1.33883325e+01  1.40276471e+01\n",
      "  1.50126576e+01  1.39255060e+01  1.37339795e+01  1.11876678e+01\n",
      "  1.13509738e+01  1.17946960e+01  1.23890685e+01  1.09116059e+01\n",
      "  1.04015685e+01  1.15018235e+01  1.09846617e+01  9.56184074e+00\n",
      "  1.00896658e+01  9.89017149e+00  9.84551616e+00  1.01114425e+01\n",
      "  9.61192811e+00  9.54481645e+00  9.87852908e+00  1.19562031e+01\n",
      "  1.17323815e+01  1.17089698e+01  1.33275989e+01  1.33688449e+01\n",
      "  1.44763733e+01  1.44202590e+01  1.48290449e+01  1.42317005e+01\n",
      "  1.33356856e+01  1.30104922e+01  1.19970283e+01  1.23954128e+01\n",
      "  1.17183540e+01  1.07732569e+01  1.10633151e+01  1.21349494e+01\n",
      "  1.38243194e+01  1.35795670e+01  1.44207883e+01  1.40174810e+01\n",
      "  1.40463468e+01  1.48428140e+01  1.43309930e+01  1.55603869e+01\n",
      "  1.60725927e+01  1.47720544e+01  1.49706538e+01  1.38240323e+01\n",
      "  1.19359853e+01  1.11409032e+01  1.23140227e+01  1.43357835e+01\n",
      "  1.30791261e+01  1.35944961e+01  1.28886602e+01  1.15928910e+01\n",
      "  1.08993905e+01  7.65456312e+00  8.40288918e+00  8.81387719e+00\n",
      "  8.73748410e+00  8.10315544e+00  8.95420537e+00  7.24327967e+00\n",
      "  8.09571501e+00  8.34146806e+00  7.36594757e+00  7.73755287e+00\n",
      "  8.75904863e+00  8.28436181e+00  8.75944656e+00  8.87978250e+00\n",
      "  9.14674887e+00  8.36117066e+00  8.30776994e+00  7.09333094e+00\n",
      "  6.25934134e+00  6.90521273e+00  7.09731534e+00  9.08793143e+00\n",
      "  1.11621914e+01  1.09254104e+01  9.69476557e+00  7.08362018e+00\n",
      "  9.24421858e+00  1.00293057e+01  7.45842877e+00  7.02072140e+00\n",
      "  7.88767880e+00  7.00595652e+00  8.58212535e+00  8.58107960e+00\n",
      "  1.01346985e+01  9.87822010e+00  1.11081919e+01  1.03132849e+01\n",
      "  1.13456362e+01  1.06973045e+01  1.09093757e+01  1.00461163e+01\n",
      "  1.01717903e+01  8.92782241e+00  1.03981113e+01  1.05336601e+01\n",
      "  1.23917262e+01  1.23061927e+01  1.15324579e+01  1.13004955e+01\n",
      "  1.22614062e+01  1.30332122e+01  1.22596587e+01  1.23936342e+01\n",
      "  1.22023015e+01  1.35976556e+01  1.35251529e+01  1.36234006e+01\n",
      "  1.31180547e+01  1.34047925e+01  1.16644306e+01  1.24582853e+01\n",
      "  1.24627329e+01  1.27614368e+01  1.37117726e+01  1.41462164e+01\n",
      "  1.47118651e+01  1.39170055e+01  1.41920277e+01  1.42624822e+01\n",
      "  1.53682818e+01  1.63175179e+01  1.76542207e+01  1.86906763e+01\n",
      "  1.61287519e+01  1.39341300e+01  1.57518995e+01  1.55176502e+01\n",
      "  1.63476191e+01  1.65321745e+01  1.55787779e+01  1.52366277e+01\n",
      "  1.42262198e+01  1.28871070e+01  1.11976749e+01  1.17387824e+01\n",
      "  1.11259376e+01  1.01220378e+01  1.09662622e+01  1.13786196e+01\n",
      "  8.41676344e+00  7.10011359e+00  7.27011310e+00  6.52198828e+00\n",
      "  7.21720643e+00  7.86419593e+00  7.40112518e+00  7.17380508e+00\n",
      "  7.62234330e+00  8.87558167e+00  8.20077838e+00  7.94622334e+00\n",
      "  7.77643305e+00  7.25476744e+00  7.22941375e+00  7.18148023e+00\n",
      "  7.41139349e+00  7.93661064e+00  8.15325418e+00  7.08286436e+00\n",
      "  6.85607546e+00  5.32526348e+00  5.97366933e+00  5.82004823e+00\n",
      "  5.36768717e+00  5.09121816e+00  5.01126711e+00  5.09871732e+00\n",
      "  4.88160280e+00  5.80935115e+00  5.85136692e+00  6.99073776e+00\n",
      "  6.15060548e+00  5.89156260e+00  4.63162024e+00  6.10580061e+00\n",
      "  4.71295077e+00  5.21328844e+00  6.07067630e+00  5.67583373e+00\n",
      "  6.08303278e+00  6.46569067e+00  5.32997073e+00  3.90303260e+00\n",
      "  5.06543068e+00  3.65053566e+00  6.06025532e+00  5.79885454e+00\n",
      "  5.72397760e+00  5.69259790e+00  5.16976503e+00  3.44892162e+00\n",
      "  5.60737614e+00  6.80661807e+00  6.89022823e+00  7.81615366e+00\n",
      "  8.32086534e+00  8.45202910e+00  7.01013057e+00  6.19963610e+00\n",
      "  4.57992722e+00  6.09102313e+00  6.61521781e+00  5.41038224e+00\n",
      "  3.77669207e+00  2.98991178e+00  3.06256100e+00  4.11163053e+00\n",
      "  4.89790719e+00  4.91557851e+00  5.45070087e+00  4.69917366e+00\n",
      "  4.87659541e+00  4.98767161e+00  6.08639501e+00  6.27781953e+00\n",
      "  5.81476548e+00  7.14588555e+00  8.51382670e+00  9.29235009e+00\n",
      "  8.81673832e+00  8.72346463e+00  8.85676979e+00  8.22487866e+00\n",
      "  6.39961194e+00  5.70262423e+00  3.75808120e+00  2.17670888e+00\n",
      "  2.86962750e+00  3.69524579e+00  3.23537433e+00  3.68822823e+00\n",
      "  4.58271748e+00  4.98316044e+00  3.57070426e+00  3.15537701e+00\n",
      "  3.86418452e+00  3.93734108e+00  2.69649584e+00  2.68602790e+00\n",
      "  1.91061719e+00  3.26060068e+00  2.93156074e+00  3.28141511e+00\n",
      "  3.26097761e+00  2.33953856e+00  2.89672140e+00  5.94220559e+00\n",
      "  7.57351743e+00  8.03086661e+00  9.42484217e+00  1.11393914e+01\n",
      "  1.11190052e+01  1.04039775e+01  1.11683249e+01  1.09237477e+01\n",
      "  1.23580643e+01  1.19982216e+01  1.09069256e+01  1.08574949e+01\n",
      "  9.63711454e+00  8.64180524e+00  7.98537618e+00  6.62147277e+00\n",
      "  7.05797462e+00  6.83572171e+00  6.52390162e+00  8.16544497e+00\n",
      "  9.19379660e+00  8.78740887e+00  9.41195725e+00  9.29563060e+00\n",
      "  9.79406264e+00  8.59936395e+00  7.93570070e+00  6.58154566e+00\n",
      "  7.18361770e+00  6.88617547e+00  4.98721040e+00  4.92477785e+00\n",
      "  5.66816719e+00  4.93144267e+00  5.35540734e+00  4.49201026e+00\n",
      "  4.54050198e+00  2.77502529e+00  2.23329978e+00  1.11862121e+00\n",
      "  1.19170405e+00  9.96794168e-01  1.17223000e+00  1.29156760e+00\n",
      "  7.40661204e-01 -9.76006149e-01 -1.28409836e+00 -2.09378460e+00\n",
      " -1.19717849e+00 -1.32499503e+00 -2.41644993e+00 -3.03829131e+00\n",
      " -1.55463963e+00  1.82004609e-01  2.90382933e-01  4.30800077e-01\n",
      " -3.70458998e-01 -1.63510304e+00 -1.10739145e+00 -1.58429227e+00\n",
      " -2.00014718e+00 -2.69688419e+00 -1.71423812e+00 -2.18954941e+00\n",
      " -2.49227743e+00 -4.80842284e+00 -6.12806743e+00 -6.20972743e+00\n",
      " -5.37154927e+00 -3.97623735e+00 -3.64159713e+00 -4.55166107e+00\n",
      " -4.75033597e+00 -3.52515516e+00 -2.64757652e+00 -3.58033495e+00\n",
      " -3.95247520e+00 -2.59445737e+00 -2.06980318e+00 -2.57475714e+00\n",
      " -2.95357396e+00 -3.51780454e+00 -1.80760270e+00 -3.99730372e-01\n",
      " -3.35952812e-01  1.24854515e-01  5.28570523e-01 -1.41747682e+00\n",
      " -1.69420906e+00 -3.06487420e+00 -1.82892669e+00 -1.64479201e+00\n",
      " -1.27610693e+00  4.68249753e-01 -4.56486457e-01 -2.08703536e+00\n",
      " -9.78706975e-01 -9.66826506e-01 -1.29199876e+00 -2.28445601e+00\n",
      " -1.02956424e+00 -2.87565586e+00 -3.95867038e+00 -2.61069112e+00\n",
      " -2.76742913e+00 -2.92018192e+00 -4.26852278e+00 -4.46149244e+00\n",
      " -4.26886592e+00 -3.10160769e+00 -4.15287276e+00 -3.93159480e+00\n",
      " -3.77040583e+00 -5.71504535e+00 -6.47432231e+00 -5.28373134e+00\n",
      " -4.16406704e+00 -3.01030865e+00 -1.74671438e+00 -1.66030626e+00\n",
      " -1.34447281e+00 -2.70720002e+00 -1.27364338e+00 -1.48872088e+00\n",
      " -1.64709467e+00 -1.16612148e+00 -2.91638822e+00 -3.75181669e+00\n",
      " -1.61076450e+00 -2.74277573e-01 -1.23109894e+00 -8.04616282e-01\n",
      "  2.83170773e-01  1.79641258e+00  8.16368781e-01  1.76918467e-01\n",
      "  1.60457014e-01  2.53665590e-01  1.56225217e+00  1.26433230e+00\n",
      " -4.78892201e-02 -3.53322657e-01 -1.14399139e+00 -4.74740874e-01\n",
      " -7.30591088e-01 -1.13845278e+00 -7.58667819e-01 -2.19900587e-01]\n"
     ]
    },
    {
     "data": {
      "image/png": "[encoded data removed]",
      "text/plain": [
       "<Figure size 640x480 with 1 Axes>"
      ]
     },
     "metadata": {},
     "output_type": "display_data"
    }
   ],
   "source": [
    "#Create Data\n",
    "values = np.cumsum(np.random.randn(1000,1))\n",
    "print(values)\n",
    "values.shape\n",
    "plt.plot(values)\n",
    "plt.show()"
   ]
  },
  {
   "cell_type": "code",
   "execution_count": 4,
   "id": "0121cd1e",
   "metadata": {},
   "outputs": [
    {
     "name": "stdout",
     "output_type": "stream",
     "text": [
      "[ 0.          0.1010101   0.2020202   0.3030303   0.4040404   0.50505051\n",
      "  0.60606061  0.70707071  0.80808081  0.90909091  1.01010101  1.11111111\n",
      "  1.21212121  1.31313131  1.41414141  1.51515152  1.61616162  1.71717172\n",
      "  1.81818182  1.91919192  2.02020202  2.12121212  2.22222222  2.32323232\n",
      "  2.42424242  2.52525253  2.62626263  2.72727273  2.82828283  2.92929293\n",
      "  3.03030303  3.13131313  3.23232323  3.33333333  3.43434343  3.53535354\n",
      "  3.63636364  3.73737374  3.83838384  3.93939394  4.04040404  4.14141414\n",
      "  4.24242424  4.34343434  4.44444444  4.54545455  4.64646465  4.74747475\n",
      "  4.84848485  4.94949495  5.05050505  5.15151515  5.25252525  5.35353535\n",
      "  5.45454545  5.55555556  5.65656566  5.75757576  5.85858586  5.95959596\n",
      "  6.06060606  6.16161616  6.26262626  6.36363636  6.46464646  6.56565657\n",
      "  6.66666667  6.76767677  6.86868687  6.96969697  7.07070707  7.17171717\n",
      "  7.27272727  7.37373737  7.47474747  7.57575758  7.67676768  7.77777778\n",
      "  7.87878788  7.97979798  8.08080808  8.18181818  8.28282828  8.38383838\n",
      "  8.48484848  8.58585859  8.68686869  8.78787879  8.88888889  8.98989899\n",
      "  9.09090909  9.19191919  9.29292929  9.39393939  9.49494949  9.5959596\n",
      "  9.6969697   9.7979798   9.8989899  10.        ]\n"
     ]
    },
    {
     "data": {
      "image/png": "[encoded data removed]",
      "text/plain": [
       "<Figure size 640x480 with 1 Axes>"
      ]
     },
     "metadata": {},
     "output_type": "display_data"
    }
   ],
   "source": [
    "import numpy as np\n",
    "import matplotlib.pyplot as plt\n",
    "x = np.linspace(0,10,100)\n",
    "print(x)\n",
    "fig = plt.figure()\n",
    "plt.plot(x,np.sin(x),'.',color = 'blue', )\n",
    "#plt.plot(x,np.cos(x),'y-')\n",
    "plt.plot(x,np.cos(x), '-', color = '0')\n",
    "#Labling the Plots\n",
    "plt.plot(x,np.tan(x), '--', color = 'green')\n",
    "plt.title('Sine and Cosine curves', color = 'green')\n",
    "plt.ylabel(\"Y-axis\")\n",
    "plt.xlabel('X-axis')\n",
    "plt.legend(['Sine','cosine','Tangent']) #lable the plots using the legend\n",
    "plt.legend('sct') #first character first plot \n",
    "plt.show()\n",
    "\n",
    "#Adding subplots\n",
    "\n"
   ]
  },
  {
   "cell_type": "code",
   "execution_count": null,
   "id": "0aae964c",
   "metadata": {},
   "outputs": [],
   "source": [
    "#Using the Matlab\n"
   ]
  },
  {
   "cell_type": "code",
   "execution_count": 13,
   "id": "116471fd",
   "metadata": {},
   "outputs": [
    {
     "name": "stdout",
     "output_type": "stream",
     "text": [
      "[ 0.          0.1010101   0.2020202   0.3030303   0.4040404   0.50505051\n",
      "  0.60606061  0.70707071  0.80808081  0.90909091  1.01010101  1.11111111\n",
      "  1.21212121  1.31313131  1.41414141  1.51515152  1.61616162  1.71717172\n",
      "  1.81818182  1.91919192  2.02020202  2.12121212  2.22222222  2.32323232\n",
      "  2.42424242  2.52525253  2.62626263  2.72727273  2.82828283  2.92929293\n",
      "  3.03030303  3.13131313  3.23232323  3.33333333  3.43434343  3.53535354\n",
      "  3.63636364  3.73737374  3.83838384  3.93939394  4.04040404  4.14141414\n",
      "  4.24242424  4.34343434  4.44444444  4.54545455  4.64646465  4.74747475\n",
      "  4.84848485  4.94949495  5.05050505  5.15151515  5.25252525  5.35353535\n",
      "  5.45454545  5.55555556  5.65656566  5.75757576  5.85858586  5.95959596\n",
      "  6.06060606  6.16161616  6.26262626  6.36363636  6.46464646  6.56565657\n",
      "  6.66666667  6.76767677  6.86868687  6.96969697  7.07070707  7.17171717\n",
      "  7.27272727  7.37373737  7.47474747  7.57575758  7.67676768  7.77777778\n",
      "  7.87878788  7.97979798  8.08080808  8.18181818  8.28282828  8.38383838\n",
      "  8.48484848  8.58585859  8.68686869  8.78787879  8.88888889  8.98989899\n",
      "  9.09090909  9.19191919  9.29292929  9.39393939  9.49494949  9.5959596\n",
      "  9.6969697   9.7979798   9.8989899  10.        ]\n"
     ]
    },
    {
     "data": {
      "image/png": "[encoded data removed]",
      "text/plain": [
       "<Figure size 640x480 with 4 Axes>"
      ]
     },
     "metadata": {},
     "output_type": "display_data"
    }
   ],
   "source": [
    "#Using the Object Oriented\n",
    "import numpy as np\n",
    "import matplotlib.pyplot as plt\n",
    "x = np.linspace(0,10,100)\n",
    "print(x)\n",
    "fig = plt.figure()\n",
    "ax1 = fig.add_subplot(2,2,1)\n",
    "plt.plot(x,np.tan(x), '-', color = 'green')\n",
    "ax2 = fig.add_subplot(2,2,2)\n",
    "plt.plot(x,np.cos(x), '+', color = '0')\n",
    "ax3 = fig.add_subplot(2,2,3)\n",
    "plt.plot(x,np.sin(x), '.', color = 'blue')\n",
    "ax4 = fig.add_subplot(2,2,4)\n",
    "ax3.plot(x,np.sin(x),'.', color = 'blue')\n",
    "plt.show()\n",
    "\n",
    "\n",
    "#ax4.plot(x, np.cos(x),'--')\n",
    "#plt.show()"
   ]
  },
  {
   "cell_type": "code",
   "execution_count": 8,
   "id": "4b202766",
   "metadata": {},
   "outputs": [
    {
     "data": {
      "text/plain": [
       "<Figure size 640x480 with 0 Axes>"
      ]
     },
     "metadata": {},
     "output_type": "display_data"
    }
   ],
   "source": [
    "#Using the Object Oriented\n",
    "import numpy as np\n",
    "import matplotlib.pyplot as plt\n",
    "fig = plt.figure()\n"
   ]
  },
  {
   "cell_type": "code",
   "execution_count": null,
   "id": "6c8fa3d0",
   "metadata": {},
   "outputs": [],
   "source": []
  }
 ],
 "metadata": {
  "kernelspec": {
   "display_name": "Python 3 (ipykernel)",
   "language": "python",
   "name": "python3"
  },
  "language_info": {
   "codemirror_mode": {
    "name": "ipython",
    "version": 3
   },
   "file_extension": ".py",
   "mimetype": "text/x-python",
   "name": "python",
   "nbconvert_exporter": "python",
   "pygments_lexer": "ipython3",
   "version": "3.10.9"
  }
 },
 "nbformat": 4,
 "nbformat_minor": 5
}
